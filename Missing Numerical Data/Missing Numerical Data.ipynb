{
 "cells": [
  {
   "cell_type": "markdown",
   "id": "65f44a2c-439f-4a7e-bf09-be607be31507",
   "metadata": {},
   "source": [
    "<div id=\"header\">\n",
    "    <p style=\"color:#6a66bd; text-align:center; font-weight:bold; font-family:verdana; font-size:20px;\">Missing Numerical Data\n",
    "    </p>\n",
    "</div>\n",
    "\n",
    "---\n",
    "\n",
    "<div style=\"background-color:gainsboro; padding:8px; border:2px dotted black; border-radius:8px; font-family:verdana; line-height: 1.7em\">\n",
    "• Missing numerical data refers to instances in a dataset where numerical values are absent or not recorded. \n",
    "<br>\n",
    "• This can occur for various reasons such as data collection errors, equipment malfunctions or participants not responding to certain questions in surveys.\n",
    "<br>\n",
    "• Handling missing data in numerical columns can significantly impact your analysis and model performance.\n",
    "<br>\n",
    "<br>\n",
    "<strong>Here are some comman ways to handle missing values :</strong>\n",
    "<br>\n",
    "<strong>1. Deletion Methods</strong>\n",
    "<br>\n",
    "• Listwise Deletion: Remove any rows with missing values in the numerical column. This is simple but may lead to loss of valuable data.\n",
    "<br>\n",
    "<strong>2. Imputation Techniques</strong>\n",
    "<br>\n",
    "• Mean/Median Imputation\n",
    "<br>\n",
    "→ Mean: Replace missing values with the mean of the column. Best for normally distributed data.\n",
    "<br>\n",
    "→ Median: Use the median if the data is skewed or has outliers.\n",
    "<br>\n",
    "• K-Nearest Neighbors (KNN) Imputation: Estimate missing values based on the values from the nearest neighbors in the dataset.\n",
    "<br>\n",
    "• Regression Imputation: Predict missing values using a regression model built from the available data.\n",
    "</div>"
   ]
  },
  {
   "cell_type": "markdown",
   "id": "6ef08336-a2af-41a6-ba5d-272d35174538",
   "metadata": {},
   "source": [
    "<div id=\"header\">\n",
    "    <p style=\"color:#6a66bd; text-align:center; font-weight:bold; font-family:verdana; font-size:20px;\">Missing Numerical Imputation - Using Pandas\n",
    "    </p>\n",
    "</div>\n",
    "\n",
    "---"
   ]
  },
  {
   "cell_type": "code",
   "execution_count": 58,
   "id": "518d8666-5083-465e-afa4-13aa880ba817",
   "metadata": {},
   "outputs": [],
   "source": [
    "# Importing Libraries\n",
    "import numpy as np\n",
    "import pandas as pd\n",
    "import matplotlib.pyplot as plt\n",
    "import seaborn as sns"
   ]
  },
  {
   "cell_type": "code",
   "execution_count": 59,
   "id": "2cb45b69-bd7d-4ead-8dee-12a964f3499e",
   "metadata": {},
   "outputs": [
    {
     "data": {
      "text/html": [
       "<div>\n",
       "<style scoped>\n",
       "    .dataframe tbody tr th:only-of-type {\n",
       "        vertical-align: middle;\n",
       "    }\n",
       "\n",
       "    .dataframe tbody tr th {\n",
       "        vertical-align: top;\n",
       "    }\n",
       "\n",
       "    .dataframe thead th {\n",
       "        text-align: right;\n",
       "    }\n",
       "</style>\n",
       "<table border=\"1\" class=\"dataframe\">\n",
       "  <thead>\n",
       "    <tr style=\"text-align: right;\">\n",
       "      <th></th>\n",
       "      <th>Age</th>\n",
       "      <th>Fare</th>\n",
       "      <th>Family</th>\n",
       "      <th>Survived</th>\n",
       "    </tr>\n",
       "  </thead>\n",
       "  <tbody>\n",
       "    <tr>\n",
       "      <th>0</th>\n",
       "      <td>22.0</td>\n",
       "      <td>7.2500</td>\n",
       "      <td>1</td>\n",
       "      <td>0</td>\n",
       "    </tr>\n",
       "    <tr>\n",
       "      <th>1</th>\n",
       "      <td>38.0</td>\n",
       "      <td>71.2833</td>\n",
       "      <td>1</td>\n",
       "      <td>1</td>\n",
       "    </tr>\n",
       "    <tr>\n",
       "      <th>2</th>\n",
       "      <td>26.0</td>\n",
       "      <td>7.9250</td>\n",
       "      <td>0</td>\n",
       "      <td>1</td>\n",
       "    </tr>\n",
       "    <tr>\n",
       "      <th>3</th>\n",
       "      <td>35.0</td>\n",
       "      <td>53.1000</td>\n",
       "      <td>1</td>\n",
       "      <td>1</td>\n",
       "    </tr>\n",
       "    <tr>\n",
       "      <th>4</th>\n",
       "      <td>35.0</td>\n",
       "      <td>8.0500</td>\n",
       "      <td>0</td>\n",
       "      <td>0</td>\n",
       "    </tr>\n",
       "  </tbody>\n",
       "</table>\n",
       "</div>"
      ],
      "text/plain": [
       "    Age     Fare  Family  Survived\n",
       "0  22.0   7.2500       1         0\n",
       "1  38.0  71.2833       1         1\n",
       "2  26.0   7.9250       0         1\n",
       "3  35.0  53.1000       1         1\n",
       "4  35.0   8.0500       0         0"
      ]
     },
     "execution_count": 59,
     "metadata": {},
     "output_type": "execute_result"
    }
   ],
   "source": [
    "# Reading CSV File\n",
    "df = pd.read_csv(\"titanic.csv\")\n",
    "df.head(5)"
   ]
  },
  {
   "cell_type": "code",
   "execution_count": 60,
   "id": "10616087-003c-4a50-9352-c96365519e0b",
   "metadata": {},
   "outputs": [
    {
     "data": {
      "text/plain": [
       "(891, 4)"
      ]
     },
     "execution_count": 60,
     "metadata": {},
     "output_type": "execute_result"
    }
   ],
   "source": [
    "# Shape of the Data \n",
    "df.shape"
   ]
  },
  {
   "cell_type": "code",
   "execution_count": 61,
   "id": "3a76c49e-aa3e-4cb4-a772-fab2bb3b30a5",
   "metadata": {},
   "outputs": [
    {
     "name": "stdout",
     "output_type": "stream",
     "text": [
      "<class 'pandas.core.frame.DataFrame'>\n",
      "RangeIndex: 891 entries, 0 to 890\n",
      "Data columns (total 4 columns):\n",
      " #   Column    Non-Null Count  Dtype  \n",
      "---  ------    --------------  -----  \n",
      " 0   Age       714 non-null    float64\n",
      " 1   Fare      846 non-null    float64\n",
      " 2   Family    891 non-null    int64  \n",
      " 3   Survived  891 non-null    int64  \n",
      "dtypes: float64(2), int64(2)\n",
      "memory usage: 28.0 KB\n"
     ]
    }
   ],
   "source": [
    "# Info of the Data\n",
    "df.info()"
   ]
  },
  {
   "cell_type": "code",
   "execution_count": 62,
   "id": "92ba4265-e3a7-4910-96d3-06671ba8c9bd",
   "metadata": {},
   "outputs": [
    {
     "data": {
      "text/plain": [
       "Age         19.865320\n",
       "Fare         5.050505\n",
       "Family       0.000000\n",
       "Survived     0.000000\n",
       "dtype: float64"
      ]
     },
     "execution_count": 62,
     "metadata": {},
     "output_type": "execute_result"
    }
   ],
   "source": [
    "# Percentage of Null values in DataFrame\n",
    "df.isna().mean()*100"
   ]
  },
  {
   "cell_type": "markdown",
   "id": "ce21768e-f784-4598-9106-e6e8ee136b8c",
   "metadata": {},
   "source": [
    "<div style=\"background-color:gainsboro; padding:8px; border:2px dotted black; border-radius:8px; font-family:verdana; line-height: 1.7em\">\n",
    "<strong>Train Test Split</strong>\n",
    "<br>\n",
    "The train-test split is a common technique in machine learning for evaluating model performance. It involves dividing your dataset into two parts :\n",
    "<br>\n",
    "• <strong>Training Set :</strong> Used to train the model.\n",
    "<br>\n",
    "• <strong>Testing Set :</strong> Used to evaluate the model's performance on unseen data.\n",
    "<br>\n",
    "<br>\n",
    "<strong>Parameters</strong>\n",
    "<br>\n",
    "• <strong>arrays :</strong> This can be a list or a tuple of arrays (e.g, features and target variables).\n",
    "<br>\n",
    "• <strong>test_size :</strong> Determines the proportion of the dataset to include in the test split (e.g, 0.2 for 20%).\n",
    "<br>\n",
    "• <strong>random_state :</strong> Controls the shuffling applied to the data before the split (e.g., any integer).\n",
    "<br>\n",
    "• <strong>shuffle :</strong> A boolean that indicates whether to shuffle the data before splitting.\n",
    "</div>"
   ]
  },
  {
   "cell_type": "code",
   "execution_count": 63,
   "id": "bff29c58-d222-4926-9d94-51e8824a66f4",
   "metadata": {},
   "outputs": [],
   "source": [
    "# Importing train_test_split\n",
    "from sklearn.model_selection import train_test_split"
   ]
  },
  {
   "cell_type": "code",
   "execution_count": 64,
   "id": "9ba460ed-6ae4-438d-97a3-af4f5bce77b1",
   "metadata": {},
   "outputs": [],
   "source": [
    "# Defining Features and Target Variables\n",
    "X = df.drop(columns=[\"Survived\"], axis=0)\n",
    "y = df[\"Survived\"]"
   ]
  },
  {
   "cell_type": "code",
   "execution_count": 65,
   "id": "c6a251f2-12b8-43a0-a098-fa5050fa7a1d",
   "metadata": {},
   "outputs": [],
   "source": [
    "# Splitting the Data\n",
    "X_train, X_test, y_train, y_test = train_test_split(X, y, test_size=0.3)"
   ]
  },
  {
   "cell_type": "code",
   "execution_count": 66,
   "id": "8fa84d91-1226-4ba7-b065-8834c70c922d",
   "metadata": {},
   "outputs": [
    {
     "name": "stdout",
     "output_type": "stream",
     "text": [
      "(623, 3) (268, 3)\n"
     ]
    }
   ],
   "source": [
    "# Shape of Training and Testing Set\n",
    "print(X_train.shape, X_test.shape)"
   ]
  },
  {
   "cell_type": "code",
   "execution_count": 67,
   "id": "635d7e0a-712d-4b38-8a90-12e64ae70a11",
   "metadata": {},
   "outputs": [
    {
     "data": {
      "text/plain": [
       "Age       19.903692\n",
       "Fare       4.815409\n",
       "Family     0.000000\n",
       "dtype: float64"
      ]
     },
     "execution_count": 67,
     "metadata": {},
     "output_type": "execute_result"
    }
   ],
   "source": [
    "# Percentage of Null values in the DataFrame\n",
    "X_train.isna().mean()*100"
   ]
  },
  {
   "cell_type": "markdown",
   "id": "5679e5c2-7cca-4d8d-bb2a-e35b614a0024",
   "metadata": {},
   "source": [
    "<div style=\"background-color:gainsboro; padding:8px; border:2px dotted black; border-radius:8px; font-family:verdana; line-height: 1.7em\">\n",
    "<strong>Mean and Median Imputation</strong>\n",
    "<br>\n",
    "• Mean and median imputation are common techniques for handling missing values in numerical datasets. \n",
    "<br>\n",
    "<br>\n",
    "<strong>1. Mean Imputation</strong>\n",
    "<br>\n",
    "• Mean imputation involves replacing missing values in a numerical column with the mean (average) of the available values in that column.\n",
    "<br>\n",
    "<strong>How to</strong>\n",
    "<br>\n",
    "• Calculate the mean of the non-missing values.\n",
    "<br>\n",
    "• Replace missing values with this mean.\n",
    "<br>\n",
    "<strong>Formula</strong>\n",
    "\n",
    "$$\\text{Mean} = \\frac{\\sum \\text{(all non-missing values)}}{\\text{Count of non-missing values}}$$\n",
    "<strong>Advantage of Mean Imputation</strong>\n",
    "<br>\n",
    "→ Simplicity: Easy to implement and understand, requires minimal calculations.\n",
    "<br>\n",
    "→ Preserves Overall Mean: Keeps the overall mean of the dataset unchanged which can be beneficial for certain analyses.\n",
    "<br>\n",
    "→ Utilizes All Data Points: Takes advantage of all available data in the dataset to calculate the mean.\n",
    "<br>\n",
    "<strong>Disadvantage of Mean Imputation</strong>\n",
    "<br>\n",
    "→ Underestimates Variability: Reduces the dataset's variability leading to an underestimation of standard deviation and variance.\n",
    "<br>\n",
    "→ Sensitive to Outliers: Affected significantly by outliers which can skew the mean and result in misleading imputation.\n",
    "<br>\n",
    "→ Assumes Normal Distribution: Works best with normally distributed data and can introduce bias in skewed distributions.\n",
    "<br>\n",
    "→ Potential Loss of Relationships: May distort relationships between variables particularly if many values are missing.\n",
    "<br>\n",
    "<br>\n",
    "<strong>2. Median Imputation</strong>\n",
    "<br>\n",
    "• Median imputation involves replacing missing values in a numerical column with the median of the available values in that column.\n",
    "<br>\n",
    "<strong>How to</strong>\n",
    "<br>\n",
    "• Calculate the median of the non-missing values.\n",
    "<br>\n",
    "• Replace missing values with this median.\n",
    "<br>\n",
    "<br>\n",
    "<strong>Formula</strong>\n",
    "<br>\n",
    "→ For an Odd Number of Observations\n",
    "<br>\n",
    "• Sort the data in ascending order.\n",
    "<br>\n",
    "• The median is the middle value.\n",
    "\n",
    "$$\\text{Median} = \\text{Value at position } \\left(\\frac{n + 1}{2}\\right)$$\n",
    "<div align=\"center\">where n is the number of observations.</div>\n",
    "<br>\n",
    "→ For an Even Number of Observations\n",
    "<br>\n",
    "• Sort the data in ascending order.\n",
    "<br>\n",
    "• The median is the average of the two middle values.\n",
    "\n",
    "$$\\text{Median} = \\frac{\\text{Value at position } \\left(\\frac{n}{2}\\right) + \\text{Value at position } \\left(\\frac{n}{2} + 1\\right)}{2}$$\n",
    "<div align=\"center\">where n is the number of observations.</div>\n",
    "<br>\n",
    "<strong>Advantage of Median Imputation</strong>\n",
    "<br>\n",
    "→ Robust to Outliers: Less influenced by extreme values, making it more suitable for skewed data.\n",
    "<br>\n",
    "→ Preserves Central Tendency: Better reflects the center of the data, particularly in skewed distributions.\n",
    "<br>\n",
    "→ Simple to Calculate: Relatively easy to implement and understand, similar to mean imputation.\n",
    "<br>\n",
    "→ Maintains Rank Order: The median maintains the rank order of values, which can be important for certain analyses.\n",
    "<br>\n",
    "<strong>Disadvantage of Median Imputation</strong>\n",
    "<br>\n",
    "→ Loss of Variability: Like mean imputation, it reduces variability in the dataset but may not do so as drastically.\n",
    "<br>\n",
    "→ May Misrepresent Relationships: Can hide relationships between variables if used extensively, especially with a large number of missing values.\n",
    "<br>\n",
    "→ Not Ideal for Normally Distributed Data: While robust for skewed distributions, it may not provide added benefit for normally distributed data.\n",
    "</div>"
   ]
  },
  {
   "cell_type": "code",
   "execution_count": 68,
   "id": "8e3a91c0-3cb2-4d36-9962-3302efa238ea",
   "metadata": {},
   "outputs": [],
   "source": [
    "# Computing Mean and Median for Age and Fare Column\n",
    "mean_age = X_train[\"Age\"].mean()\n",
    "median_age = X_train[\"Age\"].median()\n",
    "mean_fare = X_train[\"Fare\"].mean()\n",
    "median_fare = X_train[\"Fare\"].median()"
   ]
  },
  {
   "cell_type": "code",
   "execution_count": 69,
   "id": "c5b2f820-b4da-4ad3-9f32-2c098c490421",
   "metadata": {},
   "outputs": [],
   "source": [
    "# Filling in the Null values of the Data with Mean and Median\n",
    "X_train[\"Age_Mean\"] = X_train[\"Age\"].fillna(mean_age)\n",
    "X_train[\"Age_Median\"] = X_train[\"Age\"].fillna(median_age)\n",
    "X_train[\"Fare_Mean\"] = X_train[\"Fare\"].fillna(mean_fare)\n",
    "X_train[\"Fare_Median\"] = X_train[\"Fare\"].fillna(median_fare)"
   ]
  },
  {
   "cell_type": "code",
   "execution_count": 70,
   "id": "d5987474-6374-4f63-a6de-24184b41b205",
   "metadata": {},
   "outputs": [
    {
     "data": {
      "text/html": [
       "<div>\n",
       "<style scoped>\n",
       "    .dataframe tbody tr th:only-of-type {\n",
       "        vertical-align: middle;\n",
       "    }\n",
       "\n",
       "    .dataframe tbody tr th {\n",
       "        vertical-align: top;\n",
       "    }\n",
       "\n",
       "    .dataframe thead th {\n",
       "        text-align: right;\n",
       "    }\n",
       "</style>\n",
       "<table border=\"1\" class=\"dataframe\">\n",
       "  <thead>\n",
       "    <tr style=\"text-align: right;\">\n",
       "      <th></th>\n",
       "      <th>Age</th>\n",
       "      <th>Fare</th>\n",
       "      <th>Family</th>\n",
       "      <th>Age_Mean</th>\n",
       "      <th>Age_Median</th>\n",
       "      <th>Fare_Mean</th>\n",
       "      <th>Fare_Median</th>\n",
       "    </tr>\n",
       "  </thead>\n",
       "  <tbody>\n",
       "    <tr>\n",
       "      <th>814</th>\n",
       "      <td>30.5</td>\n",
       "      <td>8.0500</td>\n",
       "      <td>0</td>\n",
       "      <td>30.500000</td>\n",
       "      <td>30.5</td>\n",
       "      <td>8.0500</td>\n",
       "      <td>8.0500</td>\n",
       "    </tr>\n",
       "    <tr>\n",
       "      <th>91</th>\n",
       "      <td>20.0</td>\n",
       "      <td>7.8542</td>\n",
       "      <td>0</td>\n",
       "      <td>20.000000</td>\n",
       "      <td>20.0</td>\n",
       "      <td>7.8542</td>\n",
       "      <td>7.8542</td>\n",
       "    </tr>\n",
       "    <tr>\n",
       "      <th>489</th>\n",
       "      <td>9.0</td>\n",
       "      <td>15.9000</td>\n",
       "      <td>2</td>\n",
       "      <td>9.000000</td>\n",
       "      <td>9.0</td>\n",
       "      <td>15.9000</td>\n",
       "      <td>15.9000</td>\n",
       "    </tr>\n",
       "    <tr>\n",
       "      <th>527</th>\n",
       "      <td>NaN</td>\n",
       "      <td>221.7792</td>\n",
       "      <td>0</td>\n",
       "      <td>30.012365</td>\n",
       "      <td>29.0</td>\n",
       "      <td>221.7792</td>\n",
       "      <td>221.7792</td>\n",
       "    </tr>\n",
       "    <tr>\n",
       "      <th>141</th>\n",
       "      <td>22.0</td>\n",
       "      <td>7.7500</td>\n",
       "      <td>0</td>\n",
       "      <td>22.000000</td>\n",
       "      <td>22.0</td>\n",
       "      <td>7.7500</td>\n",
       "      <td>7.7500</td>\n",
       "    </tr>\n",
       "  </tbody>\n",
       "</table>\n",
       "</div>"
      ],
      "text/plain": [
       "      Age      Fare  Family   Age_Mean  Age_Median  Fare_Mean  Fare_Median\n",
       "814  30.5    8.0500       0  30.500000        30.5     8.0500       8.0500\n",
       "91   20.0    7.8542       0  20.000000        20.0     7.8542       7.8542\n",
       "489   9.0   15.9000       2   9.000000         9.0    15.9000      15.9000\n",
       "527   NaN  221.7792       0  30.012365        29.0   221.7792     221.7792\n",
       "141  22.0    7.7500       0  22.000000        22.0     7.7500       7.7500"
      ]
     },
     "execution_count": 70,
     "metadata": {},
     "output_type": "execute_result"
    }
   ],
   "source": [
    "# Sample of the Data\n",
    "X_train.sample(5)"
   ]
  },
  {
   "cell_type": "markdown",
   "id": "e448cc84-d03d-4d35-aae9-71deeb0828b8",
   "metadata": {},
   "source": [
    "<div style=\"background-color:gainsboro; padding:8px; border:2px dotted black; border-radius:8px; font-family:verdana; line-height: 1.7em\">\n",
    "<strong>Effects of Mean Imputation</strong>\n",
    "<br>\n",
    "<strong> 1. Outliers</strong>\n",
    "<br>\n",
    "• Introduction of New Outliers: Mean imputation can introduce new outliers because missing values are replaced with the same mean. If many values are missing, those imputed values may appear as extreme compared to the remaining data.\n",
    "<br>\n",
    "• Influence of Existing Outliers: Mean is sensitive to outliers thus, if the dataset contains existing outliers, they can skew the mean, leading to potentially misleading imputations.\n",
    "<br>\n",
    "<strong> 2. Distribution</strong>\n",
    "<br>\n",
    "• Reduced Variability: Replacing missing values with the mean decreases the overall variability of the dataset. This can flatten the distribution and potentially mask the presence of true outliers.\n",
    "<br>\n",
    "• Altered Shape: Mean imputation can skew the distribution, especially if the original data is not normally distributed. For example, in a right-skewed dataset, mean imputation could lead to a higher mean, further skewing the data.\n",
    "<br>\n",
    "<strong> 3. Covariance</strong>\n",
    "<br>\n",
    "• Reduction in Covariance: Mean imputation often reduces the covariance between variables due to the decreased variability. This can lead to underestimations of the true relationships between variables.\n",
    "<br>\n",
    "• Distortion of Relationships: By introducing uniformity, mean imputation can obscure actual relationships, making covariance calculations less reliable.\n",
    "<br>\n",
    "<strong> 4. Correlation</strong>\n",
    "<br>\n",
    "• Underestimation of Correlation: The correlation coefficient may be underestimated due to reduced variability. This can lead to a failure to detect significant relationships between variables.\n",
    "<br>\n",
    "• Assumption of Linearity: Mean imputation assumes linearity in relationships. If the true relationships are non-linear, the imputed data can distort the correlation.\n",
    "<br>\n",
    "<br>\n",
    "<strong>Effects of Median Imputation</strong>\n",
    "<br>\n",
    "<strong> 1. Outliers</strong>\n",
    "<br>\n",
    "• Less Likely to Introduce New Outliers: Median imputation is less likely to create new outliers because the median is robust to extreme values. It preserves the overall structure of the data better than mean imputation.\n",
    "<br>\n",
    "• Preservation of Existing Outliers: Existing outliers are less likely to be masked by median imputation, allowing them to remain visible and identifiable in the dataset.\n",
    "<br>\n",
    "<strong> 2. Distribution</strong>\n",
    "<br>\n",
    "• Better Preservation of Variability: Median imputation maintains more of the original variability in the dataset, which helps to keep the distribution intact.\n",
    "<br>\n",
    "• Limited Impact on Shape: The median is less affected by skewness, meaning the original shape of the distribution is more likely to be preserved compared to mean imputation.\n",
    "<br>\n",
    "<strong> 3. Covariance</strong>\n",
    "<br>\n",
    "• Stable Covariance: The covariance between variables is likely to remain more stable with median imputation, as it does not introduce uniformity to the same extent as mean imputation.\n",
    "<br>\n",
    "• Preserved Relationships: Median imputation tends to better maintain the relationships between variables, leading to more accurate covariance estimates.\n",
    "<br>\n",
    "<strong> 4. Correlation</strong>\n",
    "<br>\n",
    "• Better Preservation of Correlation: The correlation coefficients are generally more reliable with median imputation because the method is robust to outliers and preserves the rank order of the data.\n",
    "<br>\n",
    "• Reduced Impact of Skewness: Median imputation helps maintain the skewness of the data, providing a more accurate reflection of relationships between variables.\n",
    "</div>"
   ]
  },
  {
   "cell_type": "code",
   "execution_count": 71,
   "id": "21385530-62d2-46e0-ab88-aeecdeb45ae4",
   "metadata": {},
   "outputs": [
    {
     "data": {
      "image/png": "[encoded data removed]",
      "text/plain": [
       "<Figure size 640x480 with 1 Axes>"
      ]
     },
     "metadata": {},
     "output_type": "display_data"
    }
   ],
   "source": [
    "# Shape of Distribution of Original and Imputed Column\n",
    "sns.kdeplot(X_train[\"Age\"], label=\"Age\")\n",
    "sns.kdeplot(X_train[\"Age_Mean\"], label=\"Mean Age\")\n",
    "sns.kdeplot(X_train[\"Age_Median\"], label=\"Median Age\")\n",
    "\n",
    "plt.legend()\n",
    "plt.show()"
   ]
  },
  {
   "cell_type": "code",
   "execution_count": 72,
   "id": "06fda300-f378-4999-adfc-2c99f12d48b1",
   "metadata": {},
   "outputs": [
    {
     "data": {
      "image/png": "[encoded data removed]",
      "text/plain": [
       "<Figure size 640x480 with 1 Axes>"
      ]
     },
     "metadata": {},
     "output_type": "display_data"
    }
   ],
   "source": [
    "# Shape of Distribution of Original and Imputed Column\n",
    "sns.kdeplot(X_train[\"Fare\"], label=\"Fare\")\n",
    "sns.kdeplot(X_train[\"Fare_Mean\"], label=\"Mean Fare\")\n",
    "sns.kdeplot(X_train[\"Fare_Median\"], label=\"Median Fare\")\n",
    "\n",
    "plt.legend()\n",
    "plt.show()"
   ]
  },
  {
   "cell_type": "code",
   "execution_count": 73,
   "id": "2d6c5ada-bdaf-45d4-aed7-6ba64966de0e",
   "metadata": {},
   "outputs": [
    {
     "data": {
      "image/png": "[encoded data removed]",
      "text/plain": [
       "<Figure size 640x480 with 1 Axes>"
      ]
     },
     "metadata": {},
     "output_type": "display_data"
    }
   ],
   "source": [
    "# Outliers in Original and Imputed Column\n",
    "sns.boxplot(X_train[[\"Age\",\"Age_Mean\",\"Age_Median\"]])\n",
    "plt.show()"
   ]
  },
  {
   "cell_type": "code",
   "execution_count": 74,
   "id": "937315b3-d770-4684-8495-68a3c048ecd8",
   "metadata": {},
   "outputs": [
    {
     "data": {
      "text/plain": [
       "<Axes: >"
      ]
     },
     "execution_count": 74,
     "metadata": {},
     "output_type": "execute_result"
    },
    {
     "data": {
      "image/png": "[encoded data removed]",
      "text/plain": [
       "<Figure size 640x480 with 1 Axes>"
      ]
     },
     "metadata": {},
     "output_type": "display_data"
    }
   ],
   "source": [
    "# Outliers in Original and Imputed Column\n",
    "sns.boxplot(X_train[[\"Fare\",\"Fare_Mean\",\"Fare_Median\"]])"
   ]
  },
  {
   "cell_type": "markdown",
   "id": "31451897-bb57-4f0d-9bad-895b89f2bb9e",
   "metadata": {},
   "source": []
  },
  {
   "cell_type": "code",
   "execution_count": 75,
   "id": "629fa81a-c77d-4f19-ba1d-978f183e395e",
   "metadata": {},
   "outputs": [
    {
     "data": {
      "text/html": [
       "<div>\n",
       "<style scoped>\n",
       "    .dataframe tbody tr th:only-of-type {\n",
       "        vertical-align: middle;\n",
       "    }\n",
       "\n",
       "    .dataframe tbody tr th {\n",
       "        vertical-align: top;\n",
       "    }\n",
       "\n",
       "    .dataframe thead th {\n",
       "        text-align: right;\n",
       "    }\n",
       "</style>\n",
       "<table border=\"1\" class=\"dataframe\">\n",
       "  <thead>\n",
       "    <tr style=\"text-align: right;\">\n",
       "      <th></th>\n",
       "      <th>Age</th>\n",
       "      <th>Fare</th>\n",
       "      <th>Family</th>\n",
       "      <th>Age_Mean</th>\n",
       "      <th>Age_Median</th>\n",
       "      <th>Fare_Mean</th>\n",
       "      <th>Fare_Median</th>\n",
       "    </tr>\n",
       "  </thead>\n",
       "  <tbody>\n",
       "    <tr>\n",
       "      <th>Age</th>\n",
       "      <td>1.000000</td>\n",
       "      <td>0.110340</td>\n",
       "      <td>-0.291393</td>\n",
       "      <td>1.000000</td>\n",
       "      <td>1.000000</td>\n",
       "      <td>0.108883</td>\n",
       "      <td>0.111695</td>\n",
       "    </tr>\n",
       "    <tr>\n",
       "      <th>Fare</th>\n",
       "      <td>0.110340</td>\n",
       "      <td>1.000000</td>\n",
       "      <td>0.194507</td>\n",
       "      <td>0.105208</td>\n",
       "      <td>0.108360</td>\n",
       "      <td>1.000000</td>\n",
       "      <td>1.000000</td>\n",
       "    </tr>\n",
       "    <tr>\n",
       "      <th>Family</th>\n",
       "      <td>-0.291393</td>\n",
       "      <td>0.194507</td>\n",
       "      <td>1.000000</td>\n",
       "      <td>-0.233875</td>\n",
       "      <td>-0.232979</td>\n",
       "      <td>0.192384</td>\n",
       "      <td>0.193970</td>\n",
       "    </tr>\n",
       "    <tr>\n",
       "      <th>Age_Mean</th>\n",
       "      <td>1.000000</td>\n",
       "      <td>0.105208</td>\n",
       "      <td>-0.233875</td>\n",
       "      <td>1.000000</td>\n",
       "      <td>0.999517</td>\n",
       "      <td>0.103371</td>\n",
       "      <td>0.106132</td>\n",
       "    </tr>\n",
       "    <tr>\n",
       "      <th>Age_Median</th>\n",
       "      <td>1.000000</td>\n",
       "      <td>0.108360</td>\n",
       "      <td>-0.232979</td>\n",
       "      <td>0.999517</td>\n",
       "      <td>1.000000</td>\n",
       "      <td>0.106483</td>\n",
       "      <td>0.109098</td>\n",
       "    </tr>\n",
       "    <tr>\n",
       "      <th>Fare_Mean</th>\n",
       "      <td>0.108883</td>\n",
       "      <td>1.000000</td>\n",
       "      <td>0.192384</td>\n",
       "      <td>0.103371</td>\n",
       "      <td>0.106483</td>\n",
       "      <td>1.000000</td>\n",
       "      <td>0.996976</td>\n",
       "    </tr>\n",
       "    <tr>\n",
       "      <th>Fare_Median</th>\n",
       "      <td>0.111695</td>\n",
       "      <td>1.000000</td>\n",
       "      <td>0.193970</td>\n",
       "      <td>0.106132</td>\n",
       "      <td>0.109098</td>\n",
       "      <td>0.996976</td>\n",
       "      <td>1.000000</td>\n",
       "    </tr>\n",
       "  </tbody>\n",
       "</table>\n",
       "</div>"
      ],
      "text/plain": [
       "                  Age      Fare    Family  Age_Mean  Age_Median  Fare_Mean  \\\n",
       "Age          1.000000  0.110340 -0.291393  1.000000    1.000000   0.108883   \n",
       "Fare         0.110340  1.000000  0.194507  0.105208    0.108360   1.000000   \n",
       "Family      -0.291393  0.194507  1.000000 -0.233875   -0.232979   0.192384   \n",
       "Age_Mean     1.000000  0.105208 -0.233875  1.000000    0.999517   0.103371   \n",
       "Age_Median   1.000000  0.108360 -0.232979  0.999517    1.000000   0.106483   \n",
       "Fare_Mean    0.108883  1.000000  0.192384  0.103371    0.106483   1.000000   \n",
       "Fare_Median  0.111695  1.000000  0.193970  0.106132    0.109098   0.996976   \n",
       "\n",
       "             Fare_Median  \n",
       "Age             0.111695  \n",
       "Fare            1.000000  \n",
       "Family          0.193970  \n",
       "Age_Mean        0.106132  \n",
       "Age_Median      0.109098  \n",
       "Fare_Mean       0.996976  \n",
       "Fare_Median     1.000000  "
      ]
     },
     "execution_count": 75,
     "metadata": {},
     "output_type": "execute_result"
    }
   ],
   "source": [
    "# Correlation of Columns in the DataFrame\n",
    "X_train.corr()"
   ]
  },
  {
   "cell_type": "code",
   "execution_count": 76,
   "id": "10626ff5-ddf3-49d6-a35a-49daedff5ca9",
   "metadata": {},
   "outputs": [
    {
     "data": {
      "text/html": [
       "<div>\n",
       "<style scoped>\n",
       "    .dataframe tbody tr th:only-of-type {\n",
       "        vertical-align: middle;\n",
       "    }\n",
       "\n",
       "    .dataframe tbody tr th {\n",
       "        vertical-align: top;\n",
       "    }\n",
       "\n",
       "    .dataframe thead th {\n",
       "        text-align: right;\n",
       "    }\n",
       "</style>\n",
       "<table border=\"1\" class=\"dataframe\">\n",
       "  <thead>\n",
       "    <tr style=\"text-align: right;\">\n",
       "      <th></th>\n",
       "      <th>Age</th>\n",
       "      <th>Fare</th>\n",
       "      <th>Family</th>\n",
       "      <th>Age_Mean</th>\n",
       "      <th>Age_Median</th>\n",
       "      <th>Fare_Mean</th>\n",
       "      <th>Fare_Median</th>\n",
       "    </tr>\n",
       "  </thead>\n",
       "  <tbody>\n",
       "    <tr>\n",
       "      <th>Age</th>\n",
       "      <td>211.500543</td>\n",
       "      <td>86.868369</td>\n",
       "      <td>-6.347821</td>\n",
       "      <td>211.500543</td>\n",
       "      <td>211.500543</td>\n",
       "      <td>82.521059</td>\n",
       "      <td>84.981724</td>\n",
       "    </tr>\n",
       "    <tr>\n",
       "      <th>Fare</th>\n",
       "      <td>86.868369</td>\n",
       "      <td>2534.702016</td>\n",
       "      <td>16.579502</td>\n",
       "      <td>69.418053</td>\n",
       "      <td>71.542171</td>\n",
       "      <td>2534.702016</td>\n",
       "      <td>2534.702016</td>\n",
       "    </tr>\n",
       "    <tr>\n",
       "      <th>Family</th>\n",
       "      <td>-6.347821</td>\n",
       "      <td>16.579502</td>\n",
       "      <td>2.788746</td>\n",
       "      <td>-5.082339</td>\n",
       "      <td>-5.065321</td>\n",
       "      <td>15.779847</td>\n",
       "      <td>15.958149</td>\n",
       "    </tr>\n",
       "    <tr>\n",
       "      <th>Age_Mean</th>\n",
       "      <td>211.500543</td>\n",
       "      <td>69.418053</td>\n",
       "      <td>-5.082339</td>\n",
       "      <td>169.336448</td>\n",
       "      <td>169.336448</td>\n",
       "      <td>66.069916</td>\n",
       "      <td>68.040030</td>\n",
       "    </tr>\n",
       "    <tr>\n",
       "      <th>Age_Median</th>\n",
       "      <td>211.500543</td>\n",
       "      <td>71.542171</td>\n",
       "      <td>-5.065321</td>\n",
       "      <td>169.336448</td>\n",
       "      <td>169.500098</td>\n",
       "      <td>68.091584</td>\n",
       "      <td>69.975296</td>\n",
       "    </tr>\n",
       "    <tr>\n",
       "      <th>Fare_Mean</th>\n",
       "      <td>82.521059</td>\n",
       "      <td>2534.702016</td>\n",
       "      <td>15.779847</td>\n",
       "      <td>66.069916</td>\n",
       "      <td>68.091584</td>\n",
       "      <td>2412.449507</td>\n",
       "      <td>2412.449507</td>\n",
       "    </tr>\n",
       "    <tr>\n",
       "      <th>Fare_Median</th>\n",
       "      <td>84.981724</td>\n",
       "      <td>2534.702016</td>\n",
       "      <td>15.958149</td>\n",
       "      <td>68.040030</td>\n",
       "      <td>69.975296</td>\n",
       "      <td>2412.449507</td>\n",
       "      <td>2427.105574</td>\n",
       "    </tr>\n",
       "  </tbody>\n",
       "</table>\n",
       "</div>"
      ],
      "text/plain": [
       "                    Age         Fare     Family    Age_Mean  Age_Median  \\\n",
       "Age          211.500543    86.868369  -6.347821  211.500543  211.500543   \n",
       "Fare          86.868369  2534.702016  16.579502   69.418053   71.542171   \n",
       "Family        -6.347821    16.579502   2.788746   -5.082339   -5.065321   \n",
       "Age_Mean     211.500543    69.418053  -5.082339  169.336448  169.336448   \n",
       "Age_Median   211.500543    71.542171  -5.065321  169.336448  169.500098   \n",
       "Fare_Mean     82.521059  2534.702016  15.779847   66.069916   68.091584   \n",
       "Fare_Median   84.981724  2534.702016  15.958149   68.040030   69.975296   \n",
       "\n",
       "               Fare_Mean  Fare_Median  \n",
       "Age            82.521059    84.981724  \n",
       "Fare         2534.702016  2534.702016  \n",
       "Family         15.779847    15.958149  \n",
       "Age_Mean       66.069916    68.040030  \n",
       "Age_Median     68.091584    69.975296  \n",
       "Fare_Mean    2412.449507  2412.449507  \n",
       "Fare_Median  2412.449507  2427.105574  "
      ]
     },
     "execution_count": 76,
     "metadata": {},
     "output_type": "execute_result"
    }
   ],
   "source": [
    "# Covariance of Columns in the DataFrame\n",
    "X_train.cov()"
   ]
  },
  {
   "cell_type": "markdown",
   "id": "6ab84d40-9a3e-4ffc-94a4-21eb0b42e690",
   "metadata": {},
   "source": [
    "<div id=\"header\">\n",
    "    <p style=\"color:#6a66bd; text-align:center; font-weight:bold; font-family:verdana; font-size:20px;\">Missing Numerical Imputation - Using Sklearn\n",
    "    </p>\n",
    "</div>\n",
    "\n",
    "---"
   ]
  },
  {
   "cell_type": "code",
   "execution_count": 77,
   "id": "57f3e98d-9a6c-4e2f-9562-26b31edc2eb2",
   "metadata": {},
   "outputs": [],
   "source": [
    "# Splitting the Data\n",
    "X_train, X_test, y_train, y_test = train_test_split(X, y , test_size=0.3)"
   ]
  },
  {
   "cell_type": "code",
   "execution_count": 78,
   "id": "7d3a1f86-b75d-41ad-904a-e23e8765699d",
   "metadata": {},
   "outputs": [],
   "source": [
    "# Importing SimpleImputer\n",
    "from sklearn.impute import SimpleImputer"
   ]
  },
  {
   "cell_type": "code",
   "execution_count": 79,
   "id": "963854e9-ed01-452b-aae2-046bb6243bc7",
   "metadata": {},
   "outputs": [],
   "source": [
    "# Creating SimpleImputer Object for Mean and Median Imputation\n",
    "imputer1 = SimpleImputer(strategy=\"mean\")\n",
    "imputer2 = SimpleImputer(strategy=\"median\")"
   ]
  },
  {
   "cell_type": "code",
   "execution_count": 80,
   "id": "27882902-432b-4981-995d-0d146c030a8c",
   "metadata": {},
   "outputs": [],
   "source": [
    "# Importing ColumnTransformer\n",
    "from sklearn.compose import ColumnTransformer"
   ]
  },
  {
   "cell_type": "code",
   "execution_count": 81,
   "id": "28ce3260-3143-4111-8df5-67b310590203",
   "metadata": {},
   "outputs": [],
   "source": [
    "# ColumnTransformer on Age and Fare Column\n",
    "tnf = ColumnTransformer(transformers=[\n",
    "    (\"median_age\", imputer2, [\"Age\"]),\n",
    "    (\"mean_fare\", imputer1, [\"Fare\"])\n",
    "], remainder=\"passthrough\")"
   ]
  },
  {
   "cell_type": "code",
   "execution_count": 82,
   "id": "5861f81b-167d-46ff-a6be-7585bc3c9685",
   "metadata": {},
   "outputs": [],
   "source": [
    "# Fitting and Transforming Training Data Only\n",
    "X_train_transformed = tnf.fit_transform(X_train)"
   ]
  },
  {
   "cell_type": "code",
   "execution_count": 83,
   "id": "5e60acaf-ec25-4e12-b330-60a9015077f3",
   "metadata": {},
   "outputs": [],
   "source": [
    "# Transforming Testing Data\n",
    "X_test_transformed = tnf.transform(X_test)"
   ]
  },
  {
   "cell_type": "code",
   "execution_count": 84,
   "id": "60cc0260-f254-460a-8d2b-5ff62e68ffa6",
   "metadata": {},
   "outputs": [
    {
     "data": {
      "text/plain": [
       "array([28.])"
      ]
     },
     "execution_count": 84,
     "metadata": {},
     "output_type": "execute_result"
    }
   ],
   "source": [
    "# Parameter for Finding the Mean and Median used for Imputation\n",
    "tnf.named_transformers_[\"median_age\"].statistics_"
   ]
  },
  {
   "cell_type": "code",
   "execution_count": 85,
   "id": "9516b986-b3e5-4d9e-9d8f-9bf6952fc2c7",
   "metadata": {},
   "outputs": [
    {
     "data": {
      "text/plain": [
       "array([33.76819495])"
      ]
     },
     "execution_count": 85,
     "metadata": {},
     "output_type": "execute_result"
    }
   ],
   "source": [
    "# Parameter for Finding the Mean and Median used for Imputation\n",
    "tnf.named_transformers_[\"mean_fare\"].statistics_"
   ]
  }
 ],
 "metadata": {
  "kernelspec": {
   "display_name": "Python 3 (ipykernel)",
   "language": "python",
   "name": "python3"
  },
  "language_info": {
   "codemirror_mode": {
    "name": "ipython",
    "version": 3
   },
   "file_extension": ".py",
   "mimetype": "text/x-python",
   "name": "python",
   "nbconvert_exporter": "python",
   "pygments_lexer": "ipython3",
   "version": "3.12.6"
  }
 },
 "nbformat": 4,
 "nbformat_minor": 5
}
