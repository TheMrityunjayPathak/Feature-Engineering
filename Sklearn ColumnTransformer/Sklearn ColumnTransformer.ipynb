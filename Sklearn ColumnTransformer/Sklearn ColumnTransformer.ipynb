{
 "cells": [
  {
   "cell_type": "markdown",
   "id": "056e2f5a-6905-4a31-9d64-719df71e8606",
   "metadata": {},
   "source": [
    "<div id=\"header\">\n",
    "    <p style=\"color:#6a66bd; text-align:center; font-weight:bold; font-family:verdana; font-size:20px;\">Sklearn ColumnTransformer\n",
    "    </p>\n",
    "</div>\n",
    "\n",
    "---\n",
    "\n",
    "<div style=\"background-color:gainsboro; padding:8px; border:2px dotted black; border-radius:8px; font-family:verdana; line-height: 1.7em\">\n",
    "<strong>What is ColumnTransformer?</strong>\n",
    "<br>\n",
    "• The ColumnTransformer in scikit-learn is a powerful tool for applying different preprocessing steps to different subsets of the features in a dataset.\n",
    "<br>\n",
    "• It allows you to handle mixed data types (numerical, categorical, etc.) in a structured way.\n",
    "<br>\n",
    "• The ColumnTransformer was introduced in scikit-learn version 0.20, which was released in December 2018. \n",
    "<br>\n",
    "• This feature allows users to apply different preprocessing steps to different subsets of features in a dataset, making it especially useful for handling mixed data types.\n",
    "<br>\n",
    "<br>\n",
    "<strong>Benefits of ColumnTransformer</strong>\n",
    "<br>\n",
    "➩ <strong>Flexibility</strong>\n",
    "<br>\n",
    "• Apply various preprocessing techniques to different columns. \n",
    "<br>\n",
    "• For example, you can standardize numerical features while applying one-hot encoding to categorical features in a single step.\n",
    "<br>\n",
    "➩ <strong>Simplicity</strong>\n",
    "<br>\n",
    "• Reduces the complexity of the preprocessing workflow by consolidating multiple transformations into a single object.\n",
    "<br>\n",
    "• This makes the code cleaner and more maintainable.\n",
    "<br>\n",
    "➩ <strong>Integration with Pipelines</strong>\n",
    "<br>\n",
    "• Works seamlessly with scikit-learn’s Pipeline, allowing users to combine preprocessing and model fitting in a coherent workflow. \n",
    "<br>\n",
    "• This helps streamline the entire machine learning process.\n",
    "<br>\n",
    "➩ <strong>Improved Performance</strong>\n",
    "<br>\n",
    "• ColumnTransformer can optimize the execution of transformations, particularly when working with large datasets.\n",
    "<br>\n",
    "➩ <strong>Control Over Remaining Columns</strong>\n",
    "<br>\n",
    "• The remainder parameter allows you to specify what happens to columns not included in the transformers (e.g., pass them through unchanged or drop them), offering additional control over the preprocessing steps.\n",
    "</div>"
   ]
  },
  {
   "cell_type": "code",
   "execution_count": 1,
   "id": "f172a0d7-8674-42f0-89bb-a7cb8610445b",
   "metadata": {},
   "outputs": [],
   "source": [
    "# Importing Libraries\n",
    "import numpy as np\n",
    "import pandas as pd"
   ]
  },
  {
   "cell_type": "code",
   "execution_count": 2,
   "id": "d319227b-67ae-4473-b4eb-50cf7712f173",
   "metadata": {},
   "outputs": [
    {
     "data": {
      "text/html": [
       "<div>\n",
       "<style scoped>\n",
       "    .dataframe tbody tr th:only-of-type {\n",
       "        vertical-align: middle;\n",
       "    }\n",
       "\n",
       "    .dataframe tbody tr th {\n",
       "        vertical-align: top;\n",
       "    }\n",
       "\n",
       "    .dataframe thead th {\n",
       "        text-align: right;\n",
       "    }\n",
       "</style>\n",
       "<table border=\"1\" class=\"dataframe\">\n",
       "  <thead>\n",
       "    <tr style=\"text-align: right;\">\n",
       "      <th></th>\n",
       "      <th>age</th>\n",
       "      <th>gender</th>\n",
       "      <th>fever</th>\n",
       "      <th>cough</th>\n",
       "      <th>city</th>\n",
       "      <th>has_covid</th>\n",
       "    </tr>\n",
       "  </thead>\n",
       "  <tbody>\n",
       "    <tr>\n",
       "      <th>77</th>\n",
       "      <td>8</td>\n",
       "      <td>Female</td>\n",
       "      <td>101.0</td>\n",
       "      <td>Mild</td>\n",
       "      <td>Kolkata</td>\n",
       "      <td>No</td>\n",
       "    </tr>\n",
       "    <tr>\n",
       "      <th>69</th>\n",
       "      <td>73</td>\n",
       "      <td>Female</td>\n",
       "      <td>103.0</td>\n",
       "      <td>Mild</td>\n",
       "      <td>Delhi</td>\n",
       "      <td>No</td>\n",
       "    </tr>\n",
       "    <tr>\n",
       "      <th>38</th>\n",
       "      <td>49</td>\n",
       "      <td>Female</td>\n",
       "      <td>101.0</td>\n",
       "      <td>Mild</td>\n",
       "      <td>Delhi</td>\n",
       "      <td>Yes</td>\n",
       "    </tr>\n",
       "    <tr>\n",
       "      <th>37</th>\n",
       "      <td>55</td>\n",
       "      <td>Male</td>\n",
       "      <td>100.0</td>\n",
       "      <td>Mild</td>\n",
       "      <td>Kolkata</td>\n",
       "      <td>No</td>\n",
       "    </tr>\n",
       "    <tr>\n",
       "      <th>40</th>\n",
       "      <td>49</td>\n",
       "      <td>Female</td>\n",
       "      <td>102.0</td>\n",
       "      <td>Mild</td>\n",
       "      <td>Delhi</td>\n",
       "      <td>No</td>\n",
       "    </tr>\n",
       "  </tbody>\n",
       "</table>\n",
       "</div>"
      ],
      "text/plain": [
       "    age  gender  fever cough     city has_covid\n",
       "77    8  Female  101.0  Mild  Kolkata        No\n",
       "69   73  Female  103.0  Mild    Delhi        No\n",
       "38   49  Female  101.0  Mild    Delhi       Yes\n",
       "37   55    Male  100.0  Mild  Kolkata        No\n",
       "40   49  Female  102.0  Mild    Delhi        No"
      ]
     },
     "execution_count": 2,
     "metadata": {},
     "output_type": "execute_result"
    }
   ],
   "source": [
    "# Reading CSV File\n",
    "df = pd.read_csv('covid.csv')\n",
    "df.sample(5)"
   ]
  },
  {
   "cell_type": "code",
   "execution_count": 3,
   "id": "ec686183-5ba5-4ad1-93df-21705855a0df",
   "metadata": {},
   "outputs": [
    {
     "data": {
      "text/plain": [
       "(100, 6)"
      ]
     },
     "execution_count": 3,
     "metadata": {},
     "output_type": "execute_result"
    }
   ],
   "source": [
    "# Shape of the DataFrame\n",
    "df.shape"
   ]
  },
  {
   "cell_type": "code",
   "execution_count": 4,
   "id": "5ec9fc68-b130-4f54-993b-ec5974cdafb7",
   "metadata": {},
   "outputs": [
    {
     "data": {
      "text/plain": [
       "gender\n",
       "Female    59\n",
       "Male      41\n",
       "Name: count, dtype: int64"
      ]
     },
     "execution_count": 4,
     "metadata": {},
     "output_type": "execute_result"
    }
   ],
   "source": [
    "# Unique values in gender column\n",
    "df['gender'].value_counts()"
   ]
  },
  {
   "cell_type": "code",
   "execution_count": 5,
   "id": "c6659bba-7952-4895-8674-bb5f3113081f",
   "metadata": {},
   "outputs": [
    {
     "data": {
      "text/plain": [
       "cough\n",
       "Mild      62\n",
       "Strong    38\n",
       "Name: count, dtype: int64"
      ]
     },
     "execution_count": 5,
     "metadata": {},
     "output_type": "execute_result"
    }
   ],
   "source": [
    "# Unique values in cough column\n",
    "df['cough'].value_counts()"
   ]
  },
  {
   "cell_type": "code",
   "execution_count": 6,
   "id": "685160ab-005e-4735-b055-ea43154adca0",
   "metadata": {},
   "outputs": [
    {
     "data": {
      "text/plain": [
       "city\n",
       "Kolkata      32\n",
       "Bangalore    30\n",
       "Delhi        22\n",
       "Mumbai       16\n",
       "Name: count, dtype: int64"
      ]
     },
     "execution_count": 6,
     "metadata": {},
     "output_type": "execute_result"
    }
   ],
   "source": [
    "# Unique values in city column\n",
    "df['city'].value_counts()"
   ]
  },
  {
   "cell_type": "code",
   "execution_count": 7,
   "id": "f20aff72-b932-4346-8fea-9d0098037787",
   "metadata": {},
   "outputs": [
    {
     "data": {
      "text/plain": [
       "has_covid\n",
       "No     55\n",
       "Yes    45\n",
       "Name: count, dtype: int64"
      ]
     },
     "execution_count": 7,
     "metadata": {},
     "output_type": "execute_result"
    }
   ],
   "source": [
    "# Unique values in has_covid column\n",
    "df['has_covid'].value_counts()"
   ]
  },
  {
   "cell_type": "code",
   "execution_count": 8,
   "id": "10012f26-29b7-4aae-8635-90bcd109e072",
   "metadata": {},
   "outputs": [
    {
     "data": {
      "text/plain": [
       "age           0\n",
       "gender        0\n",
       "fever        10\n",
       "cough         0\n",
       "city          0\n",
       "has_covid     0\n",
       "dtype: int64"
      ]
     },
     "execution_count": 8,
     "metadata": {},
     "output_type": "execute_result"
    }
   ],
   "source": [
    "# Null values in the DataFrame\n",
    "df.isna().sum()"
   ]
  },
  {
   "cell_type": "markdown",
   "id": "d3f359ac-79dc-40bf-be90-50bfb366a511",
   "metadata": {},
   "source": [
    "<div style=\"background-color:gainsboro; padding:8px; border:2px dotted black; border-radius:8px; font-family:verdana; line-height: 1.7em\">\n",
    "<strong>Train Test Split</strong>\n",
    "<br>\n",
    "The train-test split is a common technique in machine learning for evaluating model performance. It involves dividing your dataset into two parts :\n",
    "<br>\n",
    "• <strong>Training Set :</strong> Used to train the model.\n",
    "<br>\n",
    "• <strong>Testing Set :</strong> Used to evaluate the model's performance on unseen data.\n",
    "<br>\n",
    "<br>\n",
    "<strong>Parameters</strong>\n",
    "<br>\n",
    "• <strong>arrays :</strong> This can be a list or a tuple of arrays (e.g, features and target variables).\n",
    "<br>\n",
    "• <strong>test_size :</strong> Determines the proportion of the dataset to include in the test split (e.g, 0.2 for 20%).\n",
    "<br>\n",
    "• <strong>random_state :</strong> Controls the shuffling applied to the data before the split (e.g., any integer).\n",
    "<br>\n",
    "• <strong>shuffle :</strong> A boolean that indicates whether to shuffle the data before splitting.\n",
    "</div>"
   ]
  },
  {
   "cell_type": "code",
   "execution_count": 9,
   "id": "45e5855b-d930-4947-9f30-493304df0f0a",
   "metadata": {},
   "outputs": [],
   "source": [
    "# Importing train_test_split\n",
    "from sklearn.model_selection import train_test_split"
   ]
  },
  {
   "cell_type": "code",
   "execution_count": 10,
   "id": "4c8771fc-babf-49cf-ba1d-7eee86fa31b8",
   "metadata": {},
   "outputs": [],
   "source": [
    "# Defining Features and Target Variables\n",
    "X = df.iloc[:,0:5]\n",
    "y = df['has_covid']"
   ]
  },
  {
   "cell_type": "code",
   "execution_count": 11,
   "id": "aa74b1cf-d9d2-49a1-9a66-a835dc056233",
   "metadata": {},
   "outputs": [],
   "source": [
    "# Splitting the Data\n",
    "X_train, X_test, y_train, y_test = train_test_split(X, y, test_size=0.3)"
   ]
  },
  {
   "cell_type": "code",
   "execution_count": 12,
   "id": "0b61d2ff-e98a-42ad-8ab5-a6bcaef43c7f",
   "metadata": {},
   "outputs": [
    {
     "name": "stdout",
     "output_type": "stream",
     "text": [
      "(70, 5) (30, 5)\n"
     ]
    }
   ],
   "source": [
    "# Shape of Training and Testing Set\n",
    "print(X_train.shape, X_test.shape)"
   ]
  },
  {
   "cell_type": "markdown",
   "id": "da2a32a7-7ae0-4178-bbde-79fc7ac87e28",
   "metadata": {},
   "source": [
    "<div style=\"background-color:gainsboro; padding:8px; border:2px dotted black; border-radius:8px; font-family:verdana; line-height: 1.7em\">\n",
    "<strong>ColumnTransformer</strong>\n",
    "<br>\n",
    "• ColumnTransformer is a powerful tool from scikit-learn that allows you to preprocess different columns of a dataset in different ways. \n",
    "<br>\n",
    "• This is especially useful when working with datasets that have mixed data types (numerical, categorical, text, etc.).\n",
    "<br>\n",
    "<br>\n",
    "<strong>Parameters of ColumnTransformer</strong>\n",
    "<br>\n",
    "➩ <strong>transformers</strong>\n",
    "<br>\n",
    "• A list of tuples, where each tuple has :\n",
    "<br>\n",
    "• A name (string): Identifies the transformer.\n",
    "<br>\n",
    "• Transformer object: This is the preprocessing method (e.g., StandardScaler, OneHotEncoder).\n",
    "<br>\n",
    "• The columns to apply the transformer to (list of strings or a single string).\n",
    "<br>\n",
    "➩ <strong>remainder</strong>\n",
    "<br>\n",
    "• This specifies what to do with the remaining columns that are not specified in the transformers.\n",
    "<br>\n",
    "• 'drop': Ignores the remaining columns.\n",
    "<br>\n",
    "• 'passthrough': Keeps the remaining columns unchanged.\n",
    "<br>\n",
    "• You can also provide a transformer to apply to the remaining columns.\n",
    "</div>"
   ]
  },
  {
   "cell_type": "code",
   "execution_count": 13,
   "id": "475e891d-2762-46c8-917d-f005a844e12d",
   "metadata": {},
   "outputs": [],
   "source": [
    "# Importing SimpleImputer, OrdinalEncoder and OneHotEncoder\n",
    "from sklearn.impute import SimpleImputer\n",
    "from sklearn.preprocessing import OrdinalEncoder, OneHotEncoder"
   ]
  },
  {
   "cell_type": "code",
   "execution_count": 14,
   "id": "22652aa6-df9e-4971-8ad0-0fd6adaa6f54",
   "metadata": {},
   "outputs": [],
   "source": [
    "# Importing ColumnTransformer\n",
    "from sklearn.compose import ColumnTransformer"
   ]
  },
  {
   "cell_type": "code",
   "execution_count": 15,
   "id": "d7168f53-aea1-4ef7-8395-8ebf264fa213",
   "metadata": {},
   "outputs": [],
   "source": [
    "# Creating ColumnTransformer Object\n",
    "transformer = ColumnTransformer(transformers=[\n",
    "    ('tnf1',SimpleImputer(),['fever']),\n",
    "    ('tnf2',OrdinalEncoder(categories=[['Mild','Strong']]),['cough']),\n",
    "    ('tnf3',OneHotEncoder(sparse_output=False, drop='first'),['gender','city'])\n",
    "], remainder='passthrough')"
   ]
  },
  {
   "cell_type": "code",
   "execution_count": 16,
   "id": "c5f6d99c-7104-4e93-92ce-7ee3f8323800",
   "metadata": {},
   "outputs": [],
   "source": [
    "# Fitting and Transforming Training Data\n",
    "X_train_transformed = transformer.fit_transform(X_train)"
   ]
  },
  {
   "cell_type": "code",
   "execution_count": 17,
   "id": "ad23eef5-0515-4831-8229-b8aedd6b3df2",
   "metadata": {},
   "outputs": [],
   "source": [
    "# Transforming Testing Data\n",
    "X_test_transformed = transformer.transform(X_test)"
   ]
  }
 ],
 "metadata": {
  "kernelspec": {
   "display_name": "Python 3 (ipykernel)",
   "language": "python",
   "name": "python3"
  },
  "language_info": {
   "codemirror_mode": {
    "name": "ipython",
    "version": 3
   },
   "file_extension": ".py",
   "mimetype": "text/x-python",
   "name": "python",
   "nbconvert_exporter": "python",
   "pygments_lexer": "ipython3",
   "version": "3.12.6"
  }
 },
 "nbformat": 4,
 "nbformat_minor": 5
}
