{
 "cells": [
  {
   "cell_type": "markdown",
   "id": "570264d8-669d-407e-a98c-3ecd6e3b6217",
   "metadata": {},
   "source": [
    "<div id=\"header\">\n",
    "    <p style=\"color:#6a66bd; text-align:center; font-weight:bold; font-family:verdana; font-size:20px;\">Encoding Categorical Data\n",
    "    </p>\n",
    "</div>\n",
    "\n",
    "---\n",
    "\n",
    "<div style=\"background-color:gainsboro; padding:8px; border:2px dotted black; border-radius:8px; font-family:verdana; line-height: 1.7em\">\n",
    "<strong>What is Encoding Categorical Data?</strong>\n",
    "<br>\n",
    "• Encoding categorical data refers to the process of converting categorical variables into a numerical format data.\n",
    "<br>\n",
    "• It transforms categorical features into a numerical format that models can understand thereby enhancing model performance and interpretability.\n",
    "<br>\n",
    "<br>\n",
    "<strong>Categorical Data and its Types</strong>\n",
    "<br>\n",
    "• Categorical data can be classified into different types and various encoding techniques are suitable for each type. \n",
    "<br>\n",
    "➩ <strong>Nominal Data</strong>\n",
    "<br>\n",
    "• Categories that do not have any intrinsic ordering.\n",
    "<br>\n",
    "Examples: [\"Ford\", \"Swift\", \"Honda\"], [\"Red\", \"Green\", \"Blue\"]\n",
    "<br>\n",
    "➩ <strong>Ordinal Data</strong>\n",
    "<br>\n",
    "• Categories that have a meaningful order assosiated with them.\n",
    "<br>\n",
    "Examples: [\"low\", \"medium\", \"high\"], [\"poor\", \"average\", \"good\"].\n",
    "</div>"
   ]
  },
  {
   "cell_type": "markdown",
   "id": "55c27125-0fb2-46c1-a98a-002e4e19b3c8",
   "metadata": {},
   "source": [
    "<div id=\"header\">\n",
    "    <p style=\"color:#6a66bd; text-align:center; font-weight:bold; font-family:verdana; font-size:20px;\">Ordinal Data\n",
    "    </p>\n",
    "</div>\n",
    "\n",
    "---"
   ]
  },
  {
   "cell_type": "code",
   "execution_count": 88,
   "id": "89201fcc-896f-47f7-9b61-798d2301bd75",
   "metadata": {},
   "outputs": [],
   "source": [
    "# Importing Libraries\n",
    "import numpy as np\n",
    "import pandas as pd"
   ]
  },
  {
   "cell_type": "code",
   "execution_count": 89,
   "id": "7198a958-0c90-45f0-a89a-2df1ba8bbff6",
   "metadata": {},
   "outputs": [
    {
     "data": {
      "text/html": [
       "<div>\n",
       "<style scoped>\n",
       "    .dataframe tbody tr th:only-of-type {\n",
       "        vertical-align: middle;\n",
       "    }\n",
       "\n",
       "    .dataframe tbody tr th {\n",
       "        vertical-align: top;\n",
       "    }\n",
       "\n",
       "    .dataframe thead th {\n",
       "        text-align: right;\n",
       "    }\n",
       "</style>\n",
       "<table border=\"1\" class=\"dataframe\">\n",
       "  <thead>\n",
       "    <tr style=\"text-align: right;\">\n",
       "      <th></th>\n",
       "      <th>age</th>\n",
       "      <th>gender</th>\n",
       "      <th>review</th>\n",
       "      <th>education</th>\n",
       "      <th>purchased</th>\n",
       "    </tr>\n",
       "  </thead>\n",
       "  <tbody>\n",
       "    <tr>\n",
       "      <th>39</th>\n",
       "      <td>76</td>\n",
       "      <td>Male</td>\n",
       "      <td>Poor</td>\n",
       "      <td>PG</td>\n",
       "      <td>No</td>\n",
       "    </tr>\n",
       "    <tr>\n",
       "      <th>43</th>\n",
       "      <td>27</td>\n",
       "      <td>Male</td>\n",
       "      <td>Poor</td>\n",
       "      <td>PG</td>\n",
       "      <td>No</td>\n",
       "    </tr>\n",
       "    <tr>\n",
       "      <th>41</th>\n",
       "      <td>23</td>\n",
       "      <td>Male</td>\n",
       "      <td>Good</td>\n",
       "      <td>PG</td>\n",
       "      <td>Yes</td>\n",
       "    </tr>\n",
       "    <tr>\n",
       "      <th>14</th>\n",
       "      <td>15</td>\n",
       "      <td>Male</td>\n",
       "      <td>Poor</td>\n",
       "      <td>PG</td>\n",
       "      <td>Yes</td>\n",
       "    </tr>\n",
       "    <tr>\n",
       "      <th>45</th>\n",
       "      <td>61</td>\n",
       "      <td>Male</td>\n",
       "      <td>Poor</td>\n",
       "      <td>PG</td>\n",
       "      <td>Yes</td>\n",
       "    </tr>\n",
       "  </tbody>\n",
       "</table>\n",
       "</div>"
      ],
      "text/plain": [
       "    age gender review education purchased\n",
       "39   76   Male   Poor        PG        No\n",
       "43   27   Male   Poor        PG        No\n",
       "41   23   Male   Good        PG       Yes\n",
       "14   15   Male   Poor        PG       Yes\n",
       "45   61   Male   Poor        PG       Yes"
      ]
     },
     "execution_count": 89,
     "metadata": {},
     "output_type": "execute_result"
    }
   ],
   "source": [
    "# Reading CSV Data\n",
    "df = pd.read_csv(\"customer.csv\")\n",
    "df.sample(5)"
   ]
  },
  {
   "cell_type": "code",
   "execution_count": 90,
   "id": "07eac603-c18a-4e2c-9ac8-f22b998c5620",
   "metadata": {},
   "outputs": [
    {
     "data": {
      "text/html": [
       "<div>\n",
       "<style scoped>\n",
       "    .dataframe tbody tr th:only-of-type {\n",
       "        vertical-align: middle;\n",
       "    }\n",
       "\n",
       "    .dataframe tbody tr th {\n",
       "        vertical-align: top;\n",
       "    }\n",
       "\n",
       "    .dataframe thead th {\n",
       "        text-align: right;\n",
       "    }\n",
       "</style>\n",
       "<table border=\"1\" class=\"dataframe\">\n",
       "  <thead>\n",
       "    <tr style=\"text-align: right;\">\n",
       "      <th></th>\n",
       "      <th>review</th>\n",
       "      <th>education</th>\n",
       "      <th>purchased</th>\n",
       "    </tr>\n",
       "  </thead>\n",
       "  <tbody>\n",
       "    <tr>\n",
       "      <th>5</th>\n",
       "      <td>Average</td>\n",
       "      <td>School</td>\n",
       "      <td>Yes</td>\n",
       "    </tr>\n",
       "    <tr>\n",
       "      <th>30</th>\n",
       "      <td>Average</td>\n",
       "      <td>UG</td>\n",
       "      <td>No</td>\n",
       "    </tr>\n",
       "    <tr>\n",
       "      <th>26</th>\n",
       "      <td>Poor</td>\n",
       "      <td>PG</td>\n",
       "      <td>No</td>\n",
       "    </tr>\n",
       "    <tr>\n",
       "      <th>36</th>\n",
       "      <td>Good</td>\n",
       "      <td>UG</td>\n",
       "      <td>Yes</td>\n",
       "    </tr>\n",
       "    <tr>\n",
       "      <th>38</th>\n",
       "      <td>Good</td>\n",
       "      <td>School</td>\n",
       "      <td>No</td>\n",
       "    </tr>\n",
       "  </tbody>\n",
       "</table>\n",
       "</div>"
      ],
      "text/plain": [
       "     review education purchased\n",
       "5   Average    School       Yes\n",
       "30  Average        UG        No\n",
       "26     Poor        PG        No\n",
       "36     Good        UG       Yes\n",
       "38     Good    School        No"
      ]
     },
     "execution_count": 90,
     "metadata": {},
     "output_type": "execute_result"
    }
   ],
   "source": [
    "# Selecting some specific column\n",
    "df = df[[\"review\",\"education\",\"purchased\"]]\n",
    "df.sample(5)"
   ]
  },
  {
   "cell_type": "code",
   "execution_count": 91,
   "id": "13e95721-045e-4a0b-9984-cd6c9977cfe3",
   "metadata": {},
   "outputs": [
    {
     "data": {
      "text/plain": [
       "(50, 3)"
      ]
     },
     "execution_count": 91,
     "metadata": {},
     "output_type": "execute_result"
    }
   ],
   "source": [
    "# Shape of the DataFrame\n",
    "df.shape"
   ]
  },
  {
   "cell_type": "code",
   "execution_count": 92,
   "id": "1b39295b-9b74-4e32-ad04-a4545f7d225d",
   "metadata": {},
   "outputs": [
    {
     "data": {
      "text/plain": [
       "review\n",
       "Poor       18\n",
       "Good       18\n",
       "Average    14\n",
       "Name: count, dtype: int64"
      ]
     },
     "execution_count": 92,
     "metadata": {},
     "output_type": "execute_result"
    }
   ],
   "source": [
    "# Unique values in review column\n",
    "df[\"review\"].value_counts()"
   ]
  },
  {
   "cell_type": "code",
   "execution_count": 93,
   "id": "38719963-a5e0-4e28-bcfb-0e2a8dd8c36f",
   "metadata": {},
   "outputs": [
    {
     "data": {
      "text/plain": [
       "education\n",
       "PG        18\n",
       "School    16\n",
       "UG        16\n",
       "Name: count, dtype: int64"
      ]
     },
     "execution_count": 93,
     "metadata": {},
     "output_type": "execute_result"
    }
   ],
   "source": [
    "# Unique values in education column\n",
    "df[\"education\"].value_counts()"
   ]
  },
  {
   "cell_type": "code",
   "execution_count": 94,
   "id": "f876058b-eca4-42dd-b512-f8ee19aaefb2",
   "metadata": {},
   "outputs": [
    {
     "data": {
      "text/plain": [
       "purchased\n",
       "No     26\n",
       "Yes    24\n",
       "Name: count, dtype: int64"
      ]
     },
     "execution_count": 94,
     "metadata": {},
     "output_type": "execute_result"
    }
   ],
   "source": [
    "# Unique values in purchased column\n",
    "df[\"purchased\"].value_counts()"
   ]
  },
  {
   "cell_type": "markdown",
   "id": "c87b619b-f2cf-457a-bb07-db657a198f48",
   "metadata": {},
   "source": [
    "<div style=\"background-color:gainsboro; padding:8px; border:2px dotted black; border-radius:8px; font-family:verdana; line-height: 1.7em\">\n",
    "<strong>Train Test Split</strong>\n",
    "<br>\n",
    "The train-test split is a common technique in machine learning for evaluating model performance. It involves dividing your dataset into two parts :\n",
    "<br>\n",
    "• <strong>Training Set :</strong> Used to train the model.\n",
    "<br>\n",
    "• <strong>Testing Set :</strong> Used to evaluate the model's performance on unseen data.\n",
    "<br>\n",
    "<br>\n",
    "<strong>Parameters</strong>\n",
    "<br>\n",
    "• <strong>arrays :</strong> This can be a list or a tuple of arrays (e.g, features and target variables).\n",
    "<br>\n",
    "• <strong>test_size :</strong> Determines the proportion of the dataset to include in the test split (e.g, 0.2 for 20%).\n",
    "<br>\n",
    "• <strong>random_state :</strong> Controls the shuffling applied to the data before the split (e.g., any integer).\n",
    "<br>\n",
    "• <strong>shuffle :</strong> A boolean that indicates whether to shuffle the data before splitting.\n",
    "</div>"
   ]
  },
  {
   "cell_type": "code",
   "execution_count": 95,
   "id": "a31690ff-672d-45b4-a9f1-e4ce0e2612d4",
   "metadata": {},
   "outputs": [],
   "source": [
    "# Importing train_test_split\n",
    "from sklearn.model_selection import train_test_split"
   ]
  },
  {
   "cell_type": "code",
   "execution_count": 96,
   "id": "3cc9fdd0-a7dc-41ae-912c-57a9e08d5bcd",
   "metadata": {},
   "outputs": [],
   "source": [
    "# Dividing Features and Target Variables\n",
    "X = df[[\"review\",\"education\"]]\n",
    "y = df[\"purchased\"]"
   ]
  },
  {
   "cell_type": "code",
   "execution_count": 97,
   "id": "b634e877-b889-4ea9-91c2-f1242429c80f",
   "metadata": {},
   "outputs": [],
   "source": [
    "# Splitting the Data\n",
    "X_train, X_test, y_train, y_test = train_test_split(X, y, test_size=0.3)"
   ]
  },
  {
   "cell_type": "code",
   "execution_count": 98,
   "id": "b7b0a163-68f8-49f2-a7dd-923ff57ab3ea",
   "metadata": {},
   "outputs": [
    {
     "name": "stdout",
     "output_type": "stream",
     "text": [
      "(35, 2) (15, 2)\n"
     ]
    }
   ],
   "source": [
    "# Shape of Training and Testing Set \n",
    "print(X_train.shape, X_test.shape)"
   ]
  },
  {
   "cell_type": "markdown",
   "id": "4599baf7-2eb0-46c3-81e8-3df67ea95bc1",
   "metadata": {},
   "source": [
    "<div style=\"background-color:gainsboro; padding:8px; border:2px dotted black; border-radius:8px; font-family:verdana; line-height: 1.7em\">\n",
    "<strong>Ordinal Encoder</strong>\n",
    "<br>\n",
    "• Ordinal encoding is a technique used to convert categorical data into numerical format specifically for ordinal categorical variables where the categories have a meaningful order or ranking.\n",
    "<br>\n",
    "<strong>How does Ordinal Encoding works?</strong>\n",
    "<br>\n",
    "• Each unique category is assigned an integer value that reflects its order.\n",
    "<br>\n",
    "• For instance: \"low\" = 0 | \"medium\" = 1 | \"high\" = 2\n",
    "<br>\n",
    "• Unlike one-hot encoding which creates multiple binary columns ordinal encoding results in a single numeric column.\n",
    "<br>\n",
    "<strong>How to implement?</strong>\n",
    "<br>\n",
    "• You can specify the order of categories directly when initializing the encoder. This is done by providing a list of categories in the desired order.\n",
    "<br>\n",
    "• When creating the OrdinalEncoder you provide the categories parameter which is a list of lists. \n",
    "<br>\n",
    "• Each inner list represents the ordered categories for a specific feature.\n",
    "<br>\n",
    "• Let’s say we have a dataset with a \"satisfaction\" variable that has three levels : \"low,\" \"medium\" and \"high.\" \n",
    "<br>\n",
    "• We want to encode these in that specific order.\n",
    "<br>\n",
    "<div style=\"background-color:white; padding:8px; border:1px solid gainsboro; border-radius:4px;\">\n",
    "from sklearn.preprocessing import OrdinalEncoder\n",
    "<br>\n",
    "oe = OrdinalEncoder(categories=[[\"low\",\"medium\",\"high\"]])\n",
    "</div>\n",
    "</div>"
   ]
  },
  {
   "cell_type": "code",
   "execution_count": 99,
   "id": "ad1ffa73-b0d9-4ac0-ab4d-65d300b1fd26",
   "metadata": {},
   "outputs": [],
   "source": [
    "# Importing OrdinalEncoder\n",
    "from sklearn.preprocessing import OrdinalEncoder"
   ]
  },
  {
   "cell_type": "code",
   "execution_count": 100,
   "id": "c54f6e46-8e7e-45f8-aff0-7015725323e5",
   "metadata": {},
   "outputs": [],
   "source": [
    "# Creating OrdinalEncoder Object \n",
    "# With order of categories defined in categories parameter\n",
    "oe = OrdinalEncoder(categories=[[\"Poor\",\"Average\",\"Good\"],[\"School\",\"UG\",\"PG\"]])"
   ]
  },
  {
   "cell_type": "code",
   "execution_count": 101,
   "id": "da3618bc-03dd-4021-b10b-e746ddcb5492",
   "metadata": {},
   "outputs": [],
   "source": [
    "# Fit and Transform is called on Training Data only\n",
    "X_train_transformed = oe.fit_transform(X_train)"
   ]
  },
  {
   "cell_type": "code",
   "execution_count": 102,
   "id": "ecdceb8a-74be-46d0-8a97-74d249ed5bbc",
   "metadata": {},
   "outputs": [],
   "source": [
    "# Transformation on Testing Data \n",
    "X_test_transformed = oe.transform(X_test)"
   ]
  },
  {
   "cell_type": "code",
   "execution_count": 103,
   "id": "170ea53b-c27b-47d9-9a7c-9692b8f731d3",
   "metadata": {},
   "outputs": [
    {
     "data": {
      "text/plain": [
       "[array(['Poor', 'Average', 'Good'], dtype=object),\n",
       " array(['School', 'UG', 'PG'], dtype=object)]"
      ]
     },
     "execution_count": 103,
     "metadata": {},
     "output_type": "execute_result"
    }
   ],
   "source": [
    "# Parameter to view the Categories\n",
    "oe.categories_"
   ]
  },
  {
   "cell_type": "markdown",
   "id": "a0d71133-dc03-4df9-9308-2ddb88b39e19",
   "metadata": {},
   "source": [
    "<div style=\"background-color:gainsboro; padding:8px; border:2px dotted black; border-radius:8px; font-family:verdana; line-height: 1.7em\">\n",
    "<strong>LabelEncoder</strong>\n",
    "<br>\n",
    "• LabelEncoder is a class from Python's Scikit-learn library. \n",
    "<br>\n",
    "• It is used to convert categorical labels into a numerical format which is often necessary for machine learning algorithms that require numerical input.\n",
    "<br>\n",
    "• The official Scikit-learn documentation advises using LabelEncoder primarily for encoding target labels rather than features.\n",
    "<br>\n",
    "• This is because LabelEncoder converts categories into integers which can imply a ranking or order that may not exist in the original data.\n",
    "<br>\n",
    "<br>\n",
    "<a href=\"https://scikit-learn.org/stable/modules/generated/sklearn.preprocessing.LabelEncoder.html\">View the Official Documentation</a>\n",
    "</div>"
   ]
  },
  {
   "cell_type": "code",
   "execution_count": 104,
   "id": "f8ad8b37-d58d-49ab-917f-98895f6dd2e2",
   "metadata": {},
   "outputs": [],
   "source": [
    "# Importing LabelEncoder\n",
    "from sklearn.preprocessing import LabelEncoder"
   ]
  },
  {
   "cell_type": "code",
   "execution_count": 105,
   "id": "f095c817-52f5-4380-b4bb-867ccb87eaf2",
   "metadata": {},
   "outputs": [],
   "source": [
    "# Creating LabelEncoder Object\n",
    "le = LabelEncoder()"
   ]
  },
  {
   "cell_type": "code",
   "execution_count": 106,
   "id": "851d8c21-6ab3-4fb8-a144-ef63333538e7",
   "metadata": {},
   "outputs": [],
   "source": [
    "# Fit and Transform is called on Training Data only\n",
    "y_train_transformed = le.fit_transform(y_train)"
   ]
  },
  {
   "cell_type": "code",
   "execution_count": 107,
   "id": "3d36f649-bb74-43ca-ab74-b589f5dfcb03",
   "metadata": {},
   "outputs": [],
   "source": [
    "# Transformation on Testing Data \n",
    "y_test_transformed = le.transform(y_test)"
   ]
  },
  {
   "cell_type": "markdown",
   "id": "9e3f29c2-e389-4733-88b5-e4b22f1ebdbb",
   "metadata": {},
   "source": [
    "<div id=\"header\">\n",
    "    <p style=\"color:#6a66bd; text-align:center; font-weight:bold; font-family:verdana; font-size:20px;\">Nominal Data\n",
    "    </p>\n",
    "</div>\n",
    "\n",
    "---"
   ]
  },
  {
   "cell_type": "code",
   "execution_count": 108,
   "id": "e0a76649-2081-4720-be55-753b6a9f10bd",
   "metadata": {},
   "outputs": [
    {
     "data": {
      "text/html": [
       "<div>\n",
       "<style scoped>\n",
       "    .dataframe tbody tr th:only-of-type {\n",
       "        vertical-align: middle;\n",
       "    }\n",
       "\n",
       "    .dataframe tbody tr th {\n",
       "        vertical-align: top;\n",
       "    }\n",
       "\n",
       "    .dataframe thead th {\n",
       "        text-align: right;\n",
       "    }\n",
       "</style>\n",
       "<table border=\"1\" class=\"dataframe\">\n",
       "  <thead>\n",
       "    <tr style=\"text-align: right;\">\n",
       "      <th></th>\n",
       "      <th>brand</th>\n",
       "      <th>km_driven</th>\n",
       "      <th>fuel</th>\n",
       "      <th>owner</th>\n",
       "      <th>selling_price</th>\n",
       "    </tr>\n",
       "  </thead>\n",
       "  <tbody>\n",
       "    <tr>\n",
       "      <th>2377</th>\n",
       "      <td>Ford</td>\n",
       "      <td>20706</td>\n",
       "      <td>Diesel</td>\n",
       "      <td>First Owner</td>\n",
       "      <td>650000</td>\n",
       "    </tr>\n",
       "    <tr>\n",
       "      <th>6611</th>\n",
       "      <td>Mahindra</td>\n",
       "      <td>152000</td>\n",
       "      <td>Diesel</td>\n",
       "      <td>Fourth &amp; Above Owner</td>\n",
       "      <td>200000</td>\n",
       "    </tr>\n",
       "    <tr>\n",
       "      <th>1847</th>\n",
       "      <td>Maruti</td>\n",
       "      <td>20000</td>\n",
       "      <td>Petrol</td>\n",
       "      <td>First Owner</td>\n",
       "      <td>550000</td>\n",
       "    </tr>\n",
       "    <tr>\n",
       "      <th>4176</th>\n",
       "      <td>Volkswagen</td>\n",
       "      <td>80000</td>\n",
       "      <td>Diesel</td>\n",
       "      <td>Fourth &amp; Above Owner</td>\n",
       "      <td>250000</td>\n",
       "    </tr>\n",
       "    <tr>\n",
       "      <th>1074</th>\n",
       "      <td>Hyundai</td>\n",
       "      <td>63309</td>\n",
       "      <td>Diesel</td>\n",
       "      <td>First Owner</td>\n",
       "      <td>1150000</td>\n",
       "    </tr>\n",
       "  </tbody>\n",
       "</table>\n",
       "</div>"
      ],
      "text/plain": [
       "           brand  km_driven    fuel                 owner  selling_price\n",
       "2377        Ford      20706  Diesel           First Owner         650000\n",
       "6611    Mahindra     152000  Diesel  Fourth & Above Owner         200000\n",
       "1847      Maruti      20000  Petrol           First Owner         550000\n",
       "4176  Volkswagen      80000  Diesel  Fourth & Above Owner         250000\n",
       "1074     Hyundai      63309  Diesel           First Owner        1150000"
      ]
     },
     "execution_count": 108,
     "metadata": {},
     "output_type": "execute_result"
    }
   ],
   "source": [
    "# Reading CSV Data\n",
    "df = pd.read_csv(\"cars.csv\")\n",
    "df.sample(5)"
   ]
  },
  {
   "cell_type": "code",
   "execution_count": 109,
   "id": "ffdf002e-9a48-49a7-a850-11f6907fde3e",
   "metadata": {},
   "outputs": [
    {
     "data": {
      "text/plain": [
       "(8128, 5)"
      ]
     },
     "execution_count": 109,
     "metadata": {},
     "output_type": "execute_result"
    }
   ],
   "source": [
    "# Shape of the DataFrame\n",
    "df.shape"
   ]
  },
  {
   "cell_type": "code",
   "execution_count": 110,
   "id": "3c5ce6b0-0abd-4c0f-ab4f-b4a6a4bb9f59",
   "metadata": {},
   "outputs": [
    {
     "data": {
      "text/plain": [
       "fuel\n",
       "Diesel    4402\n",
       "Petrol    3631\n",
       "CNG         57\n",
       "LPG         38\n",
       "Name: count, dtype: int64"
      ]
     },
     "execution_count": 110,
     "metadata": {},
     "output_type": "execute_result"
    }
   ],
   "source": [
    "# Unique values in fuel column\n",
    "df[\"fuel\"].value_counts()"
   ]
  },
  {
   "cell_type": "code",
   "execution_count": 111,
   "id": "db6aaba0-3570-4c64-96c4-7baaf950be4f",
   "metadata": {},
   "outputs": [
    {
     "data": {
      "text/plain": [
       "owner\n",
       "First Owner             5289\n",
       "Second Owner            2105\n",
       "Third Owner              555\n",
       "Fourth & Above Owner     174\n",
       "Test Drive Car             5\n",
       "Name: count, dtype: int64"
      ]
     },
     "execution_count": 111,
     "metadata": {},
     "output_type": "execute_result"
    }
   ],
   "source": [
    "# Unique values in owner column\n",
    "df[\"owner\"].value_counts()"
   ]
  },
  {
   "cell_type": "code",
   "execution_count": 112,
   "id": "a48d0c8d-8f19-4a4b-be70-920ea723bb78",
   "metadata": {},
   "outputs": [
    {
     "data": {
      "text/plain": [
       "array(['Maruti', 'Skoda', 'Honda', 'Hyundai', 'Toyota', 'Ford', 'Renault',\n",
       "       'Mahindra', 'Tata', 'Chevrolet', 'Fiat', 'Datsun', 'Jeep',\n",
       "       'Mercedes-Benz', 'Mitsubishi', 'Audi', 'Volkswagen', 'BMW',\n",
       "       'Nissan', 'Lexus', 'Jaguar', 'Land', 'MG', 'Volvo', 'Daewoo',\n",
       "       'Kia', 'Force', 'Ambassador', 'Ashok', 'Isuzu', 'Opel', 'Peugeot'],\n",
       "      dtype=object)"
      ]
     },
     "execution_count": 112,
     "metadata": {},
     "output_type": "execute_result"
    }
   ],
   "source": [
    "# Unique values in brand column\n",
    "df[\"brand\"].unique()"
   ]
  },
  {
   "attachments": {},
   "cell_type": "markdown",
   "id": "81fdaf9a-385e-4853-a466-b712d8cf897e",
   "metadata": {},
   "source": [
    "<div style=\"background-color:gainsboro; padding:8px; border:2px dotted black; border-radius:8px; font-family:verdana; line-height: 1.7em\">\n",
    "<strong>What is pd.get_dummies()?</strong>\n",
    "<br>\n",
    "• pd.get_dummies() is a function in Pandas that converts categorical variables into a format suitable for machine learning.\n",
    "<br>\n",
    "• It does this by creating new binary (0 or 1) columns for each category within a nominal variable.\n",
    "<br>\n",
    "<strong>Why to use it for Nominal Data?</strong>\n",
    "<br>\n",
    "• Nominal data consists of categories without any inherent order. \n",
    "<br>\n",
    "• Many machine learning algorithms require numerical input so pd.get_dummies() transformers these categorical values into numerical format.\n",
    "<br>\n",
    "<strong>How it Works?</strong>\n",
    "<br>\n",
    "• Each unique category in a nominal variable becomes its own column. \n",
    "<br>\n",
    "• If a data point belongs to that category the new column will have a value of 1 otherwise it will have a value of 0.\n",
    "</div>"
   ]
  },
  {
   "cell_type": "code",
   "execution_count": 113,
   "id": "cdce7f8a-520e-481b-86e1-c063c7610ca4",
   "metadata": {},
   "outputs": [
    {
     "data": {
      "text/html": [
       "<div>\n",
       "<style scoped>\n",
       "    .dataframe tbody tr th:only-of-type {\n",
       "        vertical-align: middle;\n",
       "    }\n",
       "\n",
       "    .dataframe tbody tr th {\n",
       "        vertical-align: top;\n",
       "    }\n",
       "\n",
       "    .dataframe thead th {\n",
       "        text-align: right;\n",
       "    }\n",
       "</style>\n",
       "<table border=\"1\" class=\"dataframe\">\n",
       "  <thead>\n",
       "    <tr style=\"text-align: right;\">\n",
       "      <th></th>\n",
       "      <th>brand</th>\n",
       "      <th>km_driven</th>\n",
       "      <th>selling_price</th>\n",
       "      <th>fuel_CNG</th>\n",
       "      <th>fuel_Diesel</th>\n",
       "      <th>fuel_LPG</th>\n",
       "      <th>fuel_Petrol</th>\n",
       "      <th>owner_First Owner</th>\n",
       "      <th>owner_Fourth &amp; Above Owner</th>\n",
       "      <th>owner_Second Owner</th>\n",
       "      <th>owner_Test Drive Car</th>\n",
       "      <th>owner_Third Owner</th>\n",
       "    </tr>\n",
       "  </thead>\n",
       "  <tbody>\n",
       "    <tr>\n",
       "      <th>0</th>\n",
       "      <td>Maruti</td>\n",
       "      <td>145500</td>\n",
       "      <td>450000</td>\n",
       "      <td>0</td>\n",
       "      <td>1</td>\n",
       "      <td>0</td>\n",
       "      <td>0</td>\n",
       "      <td>1</td>\n",
       "      <td>0</td>\n",
       "      <td>0</td>\n",
       "      <td>0</td>\n",
       "      <td>0</td>\n",
       "    </tr>\n",
       "    <tr>\n",
       "      <th>1</th>\n",
       "      <td>Skoda</td>\n",
       "      <td>120000</td>\n",
       "      <td>370000</td>\n",
       "      <td>0</td>\n",
       "      <td>1</td>\n",
       "      <td>0</td>\n",
       "      <td>0</td>\n",
       "      <td>0</td>\n",
       "      <td>0</td>\n",
       "      <td>1</td>\n",
       "      <td>0</td>\n",
       "      <td>0</td>\n",
       "    </tr>\n",
       "    <tr>\n",
       "      <th>2</th>\n",
       "      <td>Honda</td>\n",
       "      <td>140000</td>\n",
       "      <td>158000</td>\n",
       "      <td>0</td>\n",
       "      <td>0</td>\n",
       "      <td>0</td>\n",
       "      <td>1</td>\n",
       "      <td>0</td>\n",
       "      <td>0</td>\n",
       "      <td>0</td>\n",
       "      <td>0</td>\n",
       "      <td>1</td>\n",
       "    </tr>\n",
       "    <tr>\n",
       "      <th>3</th>\n",
       "      <td>Hyundai</td>\n",
       "      <td>127000</td>\n",
       "      <td>225000</td>\n",
       "      <td>0</td>\n",
       "      <td>1</td>\n",
       "      <td>0</td>\n",
       "      <td>0</td>\n",
       "      <td>1</td>\n",
       "      <td>0</td>\n",
       "      <td>0</td>\n",
       "      <td>0</td>\n",
       "      <td>0</td>\n",
       "    </tr>\n",
       "    <tr>\n",
       "      <th>4</th>\n",
       "      <td>Maruti</td>\n",
       "      <td>120000</td>\n",
       "      <td>130000</td>\n",
       "      <td>0</td>\n",
       "      <td>0</td>\n",
       "      <td>0</td>\n",
       "      <td>1</td>\n",
       "      <td>1</td>\n",
       "      <td>0</td>\n",
       "      <td>0</td>\n",
       "      <td>0</td>\n",
       "      <td>0</td>\n",
       "    </tr>\n",
       "    <tr>\n",
       "      <th>...</th>\n",
       "      <td>...</td>\n",
       "      <td>...</td>\n",
       "      <td>...</td>\n",
       "      <td>...</td>\n",
       "      <td>...</td>\n",
       "      <td>...</td>\n",
       "      <td>...</td>\n",
       "      <td>...</td>\n",
       "      <td>...</td>\n",
       "      <td>...</td>\n",
       "      <td>...</td>\n",
       "      <td>...</td>\n",
       "    </tr>\n",
       "    <tr>\n",
       "      <th>8123</th>\n",
       "      <td>Hyundai</td>\n",
       "      <td>110000</td>\n",
       "      <td>320000</td>\n",
       "      <td>0</td>\n",
       "      <td>0</td>\n",
       "      <td>0</td>\n",
       "      <td>1</td>\n",
       "      <td>1</td>\n",
       "      <td>0</td>\n",
       "      <td>0</td>\n",
       "      <td>0</td>\n",
       "      <td>0</td>\n",
       "    </tr>\n",
       "    <tr>\n",
       "      <th>8124</th>\n",
       "      <td>Hyundai</td>\n",
       "      <td>119000</td>\n",
       "      <td>135000</td>\n",
       "      <td>0</td>\n",
       "      <td>1</td>\n",
       "      <td>0</td>\n",
       "      <td>0</td>\n",
       "      <td>0</td>\n",
       "      <td>1</td>\n",
       "      <td>0</td>\n",
       "      <td>0</td>\n",
       "      <td>0</td>\n",
       "    </tr>\n",
       "    <tr>\n",
       "      <th>8125</th>\n",
       "      <td>Maruti</td>\n",
       "      <td>120000</td>\n",
       "      <td>382000</td>\n",
       "      <td>0</td>\n",
       "      <td>1</td>\n",
       "      <td>0</td>\n",
       "      <td>0</td>\n",
       "      <td>1</td>\n",
       "      <td>0</td>\n",
       "      <td>0</td>\n",
       "      <td>0</td>\n",
       "      <td>0</td>\n",
       "    </tr>\n",
       "    <tr>\n",
       "      <th>8126</th>\n",
       "      <td>Tata</td>\n",
       "      <td>25000</td>\n",
       "      <td>290000</td>\n",
       "      <td>0</td>\n",
       "      <td>1</td>\n",
       "      <td>0</td>\n",
       "      <td>0</td>\n",
       "      <td>1</td>\n",
       "      <td>0</td>\n",
       "      <td>0</td>\n",
       "      <td>0</td>\n",
       "      <td>0</td>\n",
       "    </tr>\n",
       "    <tr>\n",
       "      <th>8127</th>\n",
       "      <td>Tata</td>\n",
       "      <td>25000</td>\n",
       "      <td>290000</td>\n",
       "      <td>0</td>\n",
       "      <td>1</td>\n",
       "      <td>0</td>\n",
       "      <td>0</td>\n",
       "      <td>1</td>\n",
       "      <td>0</td>\n",
       "      <td>0</td>\n",
       "      <td>0</td>\n",
       "      <td>0</td>\n",
       "    </tr>\n",
       "  </tbody>\n",
       "</table>\n",
       "<p>8128 rows × 12 columns</p>\n",
       "</div>"
      ],
      "text/plain": [
       "        brand  km_driven  selling_price  fuel_CNG  fuel_Diesel  fuel_LPG  \\\n",
       "0      Maruti     145500         450000         0            1         0   \n",
       "1       Skoda     120000         370000         0            1         0   \n",
       "2       Honda     140000         158000         0            0         0   \n",
       "3     Hyundai     127000         225000         0            1         0   \n",
       "4      Maruti     120000         130000         0            0         0   \n",
       "...       ...        ...            ...       ...          ...       ...   \n",
       "8123  Hyundai     110000         320000         0            0         0   \n",
       "8124  Hyundai     119000         135000         0            1         0   \n",
       "8125   Maruti     120000         382000         0            1         0   \n",
       "8126     Tata      25000         290000         0            1         0   \n",
       "8127     Tata      25000         290000         0            1         0   \n",
       "\n",
       "      fuel_Petrol  owner_First Owner  owner_Fourth & Above Owner  \\\n",
       "0               0                  1                           0   \n",
       "1               0                  0                           0   \n",
       "2               1                  0                           0   \n",
       "3               0                  1                           0   \n",
       "4               1                  1                           0   \n",
       "...           ...                ...                         ...   \n",
       "8123            1                  1                           0   \n",
       "8124            0                  0                           1   \n",
       "8125            0                  1                           0   \n",
       "8126            0                  1                           0   \n",
       "8127            0                  1                           0   \n",
       "\n",
       "      owner_Second Owner  owner_Test Drive Car  owner_Third Owner  \n",
       "0                      0                     0                  0  \n",
       "1                      1                     0                  0  \n",
       "2                      0                     0                  1  \n",
       "3                      0                     0                  0  \n",
       "4                      0                     0                  0  \n",
       "...                  ...                   ...                ...  \n",
       "8123                   0                     0                  0  \n",
       "8124                   0                     0                  0  \n",
       "8125                   0                     0                  0  \n",
       "8126                   0                     0                  0  \n",
       "8127                   0                     0                  0  \n",
       "\n",
       "[8128 rows x 12 columns]"
      ]
     },
     "execution_count": 113,
     "metadata": {},
     "output_type": "execute_result"
    }
   ],
   "source": [
    "# Encoding Categorical Data \n",
    "# Using Pandas pd.get_dummies() method\n",
    "pd.get_dummies(df, columns=[\"fuel\",\"owner\"], dtype=np.int32)"
   ]
  },
  {
   "cell_type": "markdown",
   "id": "0a7afe08-5b02-46aa-8192-e57645437692",
   "metadata": {},
   "source": [
    "<div style=\"background-color:gainsboro; padding:8px; border:2px dotted black; border-radius:8px; font-family:verdana; line-height: 1.7em\">\n",
    "<strong>Why to use drop_first=True?</strong>\n",
    "<br>\n",
    "• When you use drop_first=True, it drops the first category for each categorical variable which helps to avoid the dummy variable trap. \n",
    "<br>\n",
    "➩ <strong>Here’s what that means :</strong>\n",
    "<br>\n",
    "• If you have a categorical variable with three categories (\"red\", \"green\", \"blue\") pd.get_dummies() would create three new binary columns.\n",
    "<br>\n",
    "→ is_red\n",
    "<br>\n",
    "→ is_green\n",
    "<br>\n",
    "→ is_blue\n",
    "<br>\n",
    "• Each column contains 1 or 0 indicating the presence of that category.\n",
    "<br>\n",
    "• If you include all these columns in your model they can be perfectly correlated. This can lead to multicollinearity which complicates the model.\n",
    "<br>\n",
    "• By setting drop_first=True, the first category (\"Red\") is dropped resulting in only (is_green, is_blue).\n",
    "<br>\n",
    "• This way you can reduce the number of columns and you can still determine the missing category based on the other two.\n",
    "<br>\n",
    "• If both is_green and is_blue are 0 then the category is \"Red\".\n",
    "</div>"
   ]
  },
  {
   "cell_type": "code",
   "execution_count": 114,
   "id": "7c996206-cbcf-425b-858e-74f1ffe243ca",
   "metadata": {},
   "outputs": [
    {
     "data": {
      "text/html": [
       "<div>\n",
       "<style scoped>\n",
       "    .dataframe tbody tr th:only-of-type {\n",
       "        vertical-align: middle;\n",
       "    }\n",
       "\n",
       "    .dataframe tbody tr th {\n",
       "        vertical-align: top;\n",
       "    }\n",
       "\n",
       "    .dataframe thead th {\n",
       "        text-align: right;\n",
       "    }\n",
       "</style>\n",
       "<table border=\"1\" class=\"dataframe\">\n",
       "  <thead>\n",
       "    <tr style=\"text-align: right;\">\n",
       "      <th></th>\n",
       "      <th>brand</th>\n",
       "      <th>km_driven</th>\n",
       "      <th>selling_price</th>\n",
       "      <th>fuel_Diesel</th>\n",
       "      <th>fuel_LPG</th>\n",
       "      <th>fuel_Petrol</th>\n",
       "      <th>owner_Fourth &amp; Above Owner</th>\n",
       "      <th>owner_Second Owner</th>\n",
       "      <th>owner_Test Drive Car</th>\n",
       "      <th>owner_Third Owner</th>\n",
       "    </tr>\n",
       "  </thead>\n",
       "  <tbody>\n",
       "    <tr>\n",
       "      <th>0</th>\n",
       "      <td>Maruti</td>\n",
       "      <td>145500</td>\n",
       "      <td>450000</td>\n",
       "      <td>1</td>\n",
       "      <td>0</td>\n",
       "      <td>0</td>\n",
       "      <td>0</td>\n",
       "      <td>0</td>\n",
       "      <td>0</td>\n",
       "      <td>0</td>\n",
       "    </tr>\n",
       "    <tr>\n",
       "      <th>1</th>\n",
       "      <td>Skoda</td>\n",
       "      <td>120000</td>\n",
       "      <td>370000</td>\n",
       "      <td>1</td>\n",
       "      <td>0</td>\n",
       "      <td>0</td>\n",
       "      <td>0</td>\n",
       "      <td>1</td>\n",
       "      <td>0</td>\n",
       "      <td>0</td>\n",
       "    </tr>\n",
       "    <tr>\n",
       "      <th>2</th>\n",
       "      <td>Honda</td>\n",
       "      <td>140000</td>\n",
       "      <td>158000</td>\n",
       "      <td>0</td>\n",
       "      <td>0</td>\n",
       "      <td>1</td>\n",
       "      <td>0</td>\n",
       "      <td>0</td>\n",
       "      <td>0</td>\n",
       "      <td>1</td>\n",
       "    </tr>\n",
       "    <tr>\n",
       "      <th>3</th>\n",
       "      <td>Hyundai</td>\n",
       "      <td>127000</td>\n",
       "      <td>225000</td>\n",
       "      <td>1</td>\n",
       "      <td>0</td>\n",
       "      <td>0</td>\n",
       "      <td>0</td>\n",
       "      <td>0</td>\n",
       "      <td>0</td>\n",
       "      <td>0</td>\n",
       "    </tr>\n",
       "    <tr>\n",
       "      <th>4</th>\n",
       "      <td>Maruti</td>\n",
       "      <td>120000</td>\n",
       "      <td>130000</td>\n",
       "      <td>0</td>\n",
       "      <td>0</td>\n",
       "      <td>1</td>\n",
       "      <td>0</td>\n",
       "      <td>0</td>\n",
       "      <td>0</td>\n",
       "      <td>0</td>\n",
       "    </tr>\n",
       "    <tr>\n",
       "      <th>...</th>\n",
       "      <td>...</td>\n",
       "      <td>...</td>\n",
       "      <td>...</td>\n",
       "      <td>...</td>\n",
       "      <td>...</td>\n",
       "      <td>...</td>\n",
       "      <td>...</td>\n",
       "      <td>...</td>\n",
       "      <td>...</td>\n",
       "      <td>...</td>\n",
       "    </tr>\n",
       "    <tr>\n",
       "      <th>8123</th>\n",
       "      <td>Hyundai</td>\n",
       "      <td>110000</td>\n",
       "      <td>320000</td>\n",
       "      <td>0</td>\n",
       "      <td>0</td>\n",
       "      <td>1</td>\n",
       "      <td>0</td>\n",
       "      <td>0</td>\n",
       "      <td>0</td>\n",
       "      <td>0</td>\n",
       "    </tr>\n",
       "    <tr>\n",
       "      <th>8124</th>\n",
       "      <td>Hyundai</td>\n",
       "      <td>119000</td>\n",
       "      <td>135000</td>\n",
       "      <td>1</td>\n",
       "      <td>0</td>\n",
       "      <td>0</td>\n",
       "      <td>1</td>\n",
       "      <td>0</td>\n",
       "      <td>0</td>\n",
       "      <td>0</td>\n",
       "    </tr>\n",
       "    <tr>\n",
       "      <th>8125</th>\n",
       "      <td>Maruti</td>\n",
       "      <td>120000</td>\n",
       "      <td>382000</td>\n",
       "      <td>1</td>\n",
       "      <td>0</td>\n",
       "      <td>0</td>\n",
       "      <td>0</td>\n",
       "      <td>0</td>\n",
       "      <td>0</td>\n",
       "      <td>0</td>\n",
       "    </tr>\n",
       "    <tr>\n",
       "      <th>8126</th>\n",
       "      <td>Tata</td>\n",
       "      <td>25000</td>\n",
       "      <td>290000</td>\n",
       "      <td>1</td>\n",
       "      <td>0</td>\n",
       "      <td>0</td>\n",
       "      <td>0</td>\n",
       "      <td>0</td>\n",
       "      <td>0</td>\n",
       "      <td>0</td>\n",
       "    </tr>\n",
       "    <tr>\n",
       "      <th>8127</th>\n",
       "      <td>Tata</td>\n",
       "      <td>25000</td>\n",
       "      <td>290000</td>\n",
       "      <td>1</td>\n",
       "      <td>0</td>\n",
       "      <td>0</td>\n",
       "      <td>0</td>\n",
       "      <td>0</td>\n",
       "      <td>0</td>\n",
       "      <td>0</td>\n",
       "    </tr>\n",
       "  </tbody>\n",
       "</table>\n",
       "<p>8128 rows × 10 columns</p>\n",
       "</div>"
      ],
      "text/plain": [
       "        brand  km_driven  selling_price  fuel_Diesel  fuel_LPG  fuel_Petrol  \\\n",
       "0      Maruti     145500         450000            1         0            0   \n",
       "1       Skoda     120000         370000            1         0            0   \n",
       "2       Honda     140000         158000            0         0            1   \n",
       "3     Hyundai     127000         225000            1         0            0   \n",
       "4      Maruti     120000         130000            0         0            1   \n",
       "...       ...        ...            ...          ...       ...          ...   \n",
       "8123  Hyundai     110000         320000            0         0            1   \n",
       "8124  Hyundai     119000         135000            1         0            0   \n",
       "8125   Maruti     120000         382000            1         0            0   \n",
       "8126     Tata      25000         290000            1         0            0   \n",
       "8127     Tata      25000         290000            1         0            0   \n",
       "\n",
       "      owner_Fourth & Above Owner  owner_Second Owner  owner_Test Drive Car  \\\n",
       "0                              0                   0                     0   \n",
       "1                              0                   1                     0   \n",
       "2                              0                   0                     0   \n",
       "3                              0                   0                     0   \n",
       "4                              0                   0                     0   \n",
       "...                          ...                 ...                   ...   \n",
       "8123                           0                   0                     0   \n",
       "8124                           1                   0                     0   \n",
       "8125                           0                   0                     0   \n",
       "8126                           0                   0                     0   \n",
       "8127                           0                   0                     0   \n",
       "\n",
       "      owner_Third Owner  \n",
       "0                     0  \n",
       "1                     0  \n",
       "2                     1  \n",
       "3                     0  \n",
       "4                     0  \n",
       "...                 ...  \n",
       "8123                  0  \n",
       "8124                  0  \n",
       "8125                  0  \n",
       "8126                  0  \n",
       "8127                  0  \n",
       "\n",
       "[8128 rows x 10 columns]"
      ]
     },
     "execution_count": 114,
     "metadata": {},
     "output_type": "execute_result"
    }
   ],
   "source": [
    "# Encoding Categorical Data \n",
    "# Using Pandas pd.get_dummies() method with drop_first=True\n",
    "# To avoid dummy variable trap and multicollinearity\n",
    "pd.get_dummies(df, columns=[\"fuel\",\"owner\"], drop_first=True, dtype=np.int32)"
   ]
  },
  {
   "cell_type": "markdown",
   "id": "87e4ec0f-2777-40d9-ac97-5839893d127d",
   "metadata": {},
   "source": [
    "<div style=\"background-color:gainsboro; padding:8px; border:2px dotted black; border-radius:8px; font-family:verdana; line-height: 1.7em\">\n",
    "<strong>Train Test Split</strong>\n",
    "<br>\n",
    "The train-test split is a common technique in machine learning for evaluating model performance. It involves dividing your dataset into two parts :\n",
    "<br>\n",
    "• <strong>Training Set :</strong> Used to train the model.\n",
    "<br>\n",
    "• <strong>Testing Set :</strong> Used to evaluate the model's performance on unseen data.\n",
    "<br>\n",
    "<br>\n",
    "<strong>Parameters</strong>\n",
    "<br>\n",
    "• <strong>arrays :</strong> This can be a list or a tuple of arrays (e.g, features and target variables).\n",
    "<br>\n",
    "• <strong>test_size :</strong> Determines the proportion of the dataset to include in the test split (e.g, 0.2 for 20%).\n",
    "<br>\n",
    "• <strong>random_state :</strong> Controls the shuffling applied to the data before the split (e.g., any integer).\n",
    "<br>\n",
    "• <strong>shuffle :</strong> A boolean that indicates whether to shuffle the data before splitting.\n",
    "</div>"
   ]
  },
  {
   "cell_type": "code",
   "execution_count": 115,
   "id": "67879e54-ee5b-4422-958f-29cf2f0b1277",
   "metadata": {},
   "outputs": [],
   "source": [
    "# Importing train_test_split\n",
    "from sklearn.model_selection import train_test_split"
   ]
  },
  {
   "cell_type": "code",
   "execution_count": 116,
   "id": "74da04a3-3150-4533-856b-5b4516e335fd",
   "metadata": {},
   "outputs": [],
   "source": [
    "# Dividing Features and Target Variables\n",
    "X = df.iloc[:,0:4]\n",
    "y = df[\"selling_price\"]"
   ]
  },
  {
   "cell_type": "code",
   "execution_count": 117,
   "id": "227ee4c6-4cc8-4d48-a65a-267256032fd0",
   "metadata": {},
   "outputs": [],
   "source": [
    "# Splitting the Data\n",
    "X_train, X_test, y_train, y_test = train_test_split(X, y, test_size=0.3)"
   ]
  },
  {
   "cell_type": "code",
   "execution_count": 118,
   "id": "057e79b2-919d-4a0a-a5c0-d1a18f4e5733",
   "metadata": {},
   "outputs": [
    {
     "name": "stdout",
     "output_type": "stream",
     "text": [
      "(5689, 4) (2439, 4)\n"
     ]
    }
   ],
   "source": [
    "# Shape of Training and Testing Set \n",
    "print(X_train.shape, X_test.shape)"
   ]
  },
  {
   "cell_type": "markdown",
   "id": "176319d5-9e74-44ab-8488-3fdcf57fabca",
   "metadata": {},
   "source": [
    "<div style=\"background-color:gainsboro; padding:8px; border:2px dotted black; border-radius:8px; font-family:verdana; line-height: 1.7em\">\n",
    "<strong>OneHotEncoder</strong>\n",
    "<br>\n",
    "• OneHotEncoder is a technique used to convert categorical data into a numerical format that can be used in machine learning models.\n",
    "<br>\n",
    "• It transforms each category into a new binary column (0 or 1) representing the presence or absence of that category.\n",
    "<br>\n",
    "<strong>How it Works</strong>\n",
    "<br>\n",
    "• For a categorical variable identify all unique categories. For example, if you have a variable \"Color\" with the values \"Red\", \"Green\" and \"Blue\".\n",
    "<br>\n",
    "• Each category is converted into a new column (Is_Red, Is_Green, Is_Blue).\n",
    "<br>\n",
    "• For each observation, put a 1 in the column corresponding to its category and 0s in the others.\n",
    "<br>\n",
    "<strong>Example</strong>\n",
    "<br>\n",
    "• Suppose you have the following data :\n",
    "    \n",
    "<table style=\"border-collapse: collapse; width: 25%; text-align:center;\">\n",
    "    <tr>\n",
    "        <th style=\"border:2px solid black;\">Color</th>\n",
    "    </tr>\n",
    "    <tr>\n",
    "        <td style=\"border:2px solid black;\">Red</td>\n",
    "    </tr>\n",
    "    <tr>\n",
    "        <td style=\"border:2px solid black;\">Green</td>\n",
    "    </tr>\n",
    "    <tr>\n",
    "        <td style=\"border:2px solid black;\">Blue</td>\n",
    "    </tr>\n",
    "</table>\n",
    "\n",
    "• After one-hot encoding it would look like this :\n",
    "\n",
    "<table style=\"border-collapse: collapse; width: 50%;\">\n",
    "    <tr>\n",
    "        <th style=\"border: 2px solid black; padding: 8px; text-align:center;\">Is_Red</th>\n",
    "        <th style=\"border: 2px solid black; padding: 8px; text-align:center;\">Is_Green</th>\n",
    "        <th style=\"border: 2px solid black; padding: 8px; text-align:center;\">Is_Blue</th>\n",
    "    </tr>\n",
    "    <tr>\n",
    "        <td style=\"border: 2px solid black; padding: 8px; text-align:center;\">1</td>\n",
    "        <td style=\"border: 2px solid black; padding: 8px; text-align:center;\">0</td>\n",
    "        <td style=\"border: 2px solid black; padding: 8px; text-align:center;\">0</td>\n",
    "    </tr>\n",
    "    <tr>\n",
    "        <td style=\"border: 2px solid black; padding: 8px; text-align:center;\">0</td>\n",
    "        <td style=\"border: 2px solid black; padding: 8px; text-align:center;\">1</td>\n",
    "        <td style=\"border: 2px solid black; padding: 8px; text-align:center;\">0</td>\n",
    "    </tr>\n",
    "    <tr>\n",
    "        <td style=\"border: 2px solid black; padding: 8px; text-align:center;\">0</td>\n",
    "        <td style=\"border: 2px solid black; padding: 8px; text-align:center;\">0</td>\n",
    "        <td style=\"border: 2px solid black; padding: 8px; text-align:center;\">1</td>\n",
    "    </tr>\n",
    "</table>\n",
    "<br>\n",
    "<strong>Parameters of OneHotEncoder</strong>\n",
    "<br>\n",
    "➩ <strong>drop</strong>\n",
    "<br>\n",
    "• Controls whether to drop one of the categories to avoid the dummy variable trap.\n",
    "<br>\n",
    "→ 'first': The first category of each feature is dropped.\n",
    "<br>\n",
    "➩ <strong>sparse</strong>\n",
    "<br>\n",
    "• Determines whether to return a sparse matrix (which uses less memory for large datasets) or a dense array.\n",
    "<br>\n",
    "→ True: Returns a sparse matrix.\n",
    "<br>\n",
    "→ False: Returns a dense array.\n",
    "</div>"
   ]
  },
  {
   "cell_type": "code",
   "execution_count": 119,
   "id": "da4c81cd-db81-441c-85f9-22045a9bc337",
   "metadata": {},
   "outputs": [],
   "source": [
    "# Importing OneHotEncoder\n",
    "from sklearn.preprocessing import OneHotEncoder"
   ]
  },
  {
   "cell_type": "code",
   "execution_count": 120,
   "id": "e0bdded3-3924-4f01-b096-4bc3d9df50c2",
   "metadata": {},
   "outputs": [],
   "source": [
    "# Creating OneHotEncoder Object\n",
    "ohe = OneHotEncoder(drop=\"first\", sparse_output=False)"
   ]
  },
  {
   "cell_type": "code",
   "execution_count": 121,
   "id": "30c3a78e-38b7-4522-ac20-b6fd827daa28",
   "metadata": {},
   "outputs": [],
   "source": [
    "# Fit and Transform is called on Training Data only\n",
    "X_train_transformed = ohe.fit_transform(X_train[[\"fuel\",\"owner\"]])"
   ]
  },
  {
   "cell_type": "code",
   "execution_count": 122,
   "id": "f32615eb-6e3e-4e57-9d42-9a11e322c82e",
   "metadata": {},
   "outputs": [],
   "source": [
    "# Transformation on Testing Data \n",
    "X_test_transformed = ohe.transform(X_test[[\"fuel\",\"owner\"]])"
   ]
  },
  {
   "cell_type": "markdown",
   "id": "9c33f942-3914-4d6e-b13e-95422fe722c5",
   "metadata": {},
   "source": [
    "<div style=\"background-color:gainsboro; padding:8px; border:2px dotted black; border-radius:8px; font-family:verdana; line-height: 1.7em\">\n",
    "<strong>Combining Rare Categories</strong>\n",
    "<br>\n",
    "• When dealing with categorical data in machine learning it’s common to encounter categories that occur infrequently. \n",
    "<br>\n",
    "• These rare categories can introduce noise and complexity into your models often leading to poorer performance. \n",
    "<br>\n",
    "• To address this issue one effective approach is to combine these less frequent categories into a single category typically labeled as \"Others\".\n",
    "</div>"
   ]
  },
  {
   "cell_type": "code",
   "execution_count": 123,
   "id": "b685adc1-2b83-459a-86cc-e27458d4f9c9",
   "metadata": {},
   "outputs": [
    {
     "data": {
      "text/plain": [
       "brand\n",
       "Maruti           2448\n",
       "Hyundai          1415\n",
       "Mahindra          772\n",
       "Tata              734\n",
       "Toyota            488\n",
       "Honda             467\n",
       "Ford              397\n",
       "Chevrolet         230\n",
       "Renault           228\n",
       "Volkswagen        186\n",
       "BMW               120\n",
       "Skoda             105\n",
       "Nissan             81\n",
       "Jaguar             71\n",
       "Volvo              67\n",
       "Datsun             65\n",
       "Mercedes-Benz      54\n",
       "Fiat               47\n",
       "Audi               40\n",
       "Lexus              34\n",
       "Jeep               31\n",
       "Mitsubishi         14\n",
       "Land                6\n",
       "Force               6\n",
       "Isuzu               5\n",
       "Ambassador          4\n",
       "Kia                 4\n",
       "MG                  3\n",
       "Daewoo              3\n",
       "Ashok               1\n",
       "Opel                1\n",
       "Peugeot             1\n",
       "Name: count, dtype: int64"
      ]
     },
     "execution_count": 123,
     "metadata": {},
     "output_type": "execute_result"
    }
   ],
   "source": [
    "# Unique values in brand column\n",
    "df[\"brand\"].value_counts()"
   ]
  },
  {
   "cell_type": "code",
   "execution_count": 124,
   "id": "56ed4bb5-bbd8-4489-ab08-d961c49448d3",
   "metadata": {},
   "outputs": [
    {
     "data": {
      "text/plain": [
       "32"
      ]
     },
     "execution_count": 124,
     "metadata": {},
     "output_type": "execute_result"
    }
   ],
   "source": [
    "# No of categories in brand column\n",
    "df[\"brand\"].nunique()"
   ]
  },
  {
   "cell_type": "code",
   "execution_count": 125,
   "id": "2c253669-f741-4d5a-baeb-8322f89ed6e7",
   "metadata": {},
   "outputs": [],
   "source": [
    "# Saving value_counts() result in counts variable\n",
    "counts = df[\"brand\"].value_counts()"
   ]
  },
  {
   "cell_type": "code",
   "execution_count": 126,
   "id": "c19d199b-a543-4774-8423-080d33017179",
   "metadata": {},
   "outputs": [],
   "source": [
    "# Setting a limit for frequency of categories\n",
    "limit = 100"
   ]
  },
  {
   "cell_type": "code",
   "execution_count": 127,
   "id": "8490edc0-577a-428b-a4d2-57a4e4387351",
   "metadata": {},
   "outputs": [],
   "source": [
    "# Saving all car brand names with frequency less than 100 in the data\n",
    "repl = counts[counts <= limit].index"
   ]
  },
  {
   "cell_type": "code",
   "execution_count": 128,
   "id": "3d6b5512-e174-43a4-8c80-6b446e135223",
   "metadata": {},
   "outputs": [
    {
     "data": {
      "text/html": [
       "<div>\n",
       "<style scoped>\n",
       "    .dataframe tbody tr th:only-of-type {\n",
       "        vertical-align: middle;\n",
       "    }\n",
       "\n",
       "    .dataframe tbody tr th {\n",
       "        vertical-align: top;\n",
       "    }\n",
       "\n",
       "    .dataframe thead th {\n",
       "        text-align: right;\n",
       "    }\n",
       "</style>\n",
       "<table border=\"1\" class=\"dataframe\">\n",
       "  <thead>\n",
       "    <tr style=\"text-align: right;\">\n",
       "      <th></th>\n",
       "      <th>BMW</th>\n",
       "      <th>Chevrolet</th>\n",
       "      <th>Ford</th>\n",
       "      <th>Honda</th>\n",
       "      <th>Hyundai</th>\n",
       "      <th>Mahindra</th>\n",
       "      <th>Maruti</th>\n",
       "      <th>Renault</th>\n",
       "      <th>Skoda</th>\n",
       "      <th>Tata</th>\n",
       "      <th>Toyota</th>\n",
       "      <th>Volkswagen</th>\n",
       "      <th>uncommon</th>\n",
       "    </tr>\n",
       "  </thead>\n",
       "  <tbody>\n",
       "    <tr>\n",
       "      <th>5695</th>\n",
       "      <td>0</td>\n",
       "      <td>0</td>\n",
       "      <td>0</td>\n",
       "      <td>0</td>\n",
       "      <td>0</td>\n",
       "      <td>0</td>\n",
       "      <td>1</td>\n",
       "      <td>0</td>\n",
       "      <td>0</td>\n",
       "      <td>0</td>\n",
       "      <td>0</td>\n",
       "      <td>0</td>\n",
       "      <td>0</td>\n",
       "    </tr>\n",
       "    <tr>\n",
       "      <th>4792</th>\n",
       "      <td>0</td>\n",
       "      <td>0</td>\n",
       "      <td>0</td>\n",
       "      <td>1</td>\n",
       "      <td>0</td>\n",
       "      <td>0</td>\n",
       "      <td>0</td>\n",
       "      <td>0</td>\n",
       "      <td>0</td>\n",
       "      <td>0</td>\n",
       "      <td>0</td>\n",
       "      <td>0</td>\n",
       "      <td>0</td>\n",
       "    </tr>\n",
       "    <tr>\n",
       "      <th>2959</th>\n",
       "      <td>0</td>\n",
       "      <td>0</td>\n",
       "      <td>0</td>\n",
       "      <td>0</td>\n",
       "      <td>0</td>\n",
       "      <td>0</td>\n",
       "      <td>0</td>\n",
       "      <td>0</td>\n",
       "      <td>0</td>\n",
       "      <td>0</td>\n",
       "      <td>1</td>\n",
       "      <td>0</td>\n",
       "      <td>0</td>\n",
       "    </tr>\n",
       "    <tr>\n",
       "      <th>4331</th>\n",
       "      <td>0</td>\n",
       "      <td>0</td>\n",
       "      <td>0</td>\n",
       "      <td>0</td>\n",
       "      <td>0</td>\n",
       "      <td>0</td>\n",
       "      <td>0</td>\n",
       "      <td>0</td>\n",
       "      <td>0</td>\n",
       "      <td>0</td>\n",
       "      <td>1</td>\n",
       "      <td>0</td>\n",
       "      <td>0</td>\n",
       "    </tr>\n",
       "    <tr>\n",
       "      <th>1147</th>\n",
       "      <td>0</td>\n",
       "      <td>0</td>\n",
       "      <td>0</td>\n",
       "      <td>0</td>\n",
       "      <td>1</td>\n",
       "      <td>0</td>\n",
       "      <td>0</td>\n",
       "      <td>0</td>\n",
       "      <td>0</td>\n",
       "      <td>0</td>\n",
       "      <td>0</td>\n",
       "      <td>0</td>\n",
       "      <td>0</td>\n",
       "    </tr>\n",
       "  </tbody>\n",
       "</table>\n",
       "</div>"
      ],
      "text/plain": [
       "      BMW  Chevrolet  Ford  Honda  Hyundai  Mahindra  Maruti  Renault  Skoda  \\\n",
       "5695    0          0     0      0        0         0       1        0      0   \n",
       "4792    0          0     0      1        0         0       0        0      0   \n",
       "2959    0          0     0      0        0         0       0        0      0   \n",
       "4331    0          0     0      0        0         0       0        0      0   \n",
       "1147    0          0     0      0        1         0       0        0      0   \n",
       "\n",
       "      Tata  Toyota  Volkswagen  uncommon  \n",
       "5695     0       0           0         0  \n",
       "4792     0       0           0         0  \n",
       "2959     0       1           0         0  \n",
       "4331     0       1           0         0  \n",
       "1147     0       0           0         0  "
      ]
     },
     "execution_count": 128,
     "metadata": {},
     "output_type": "execute_result"
    }
   ],
   "source": [
    "# Replacing all car brand name having frequency less than 100\n",
    "# With \"uncommon\" and then transforming all categories into numerical data\n",
    "pd.get_dummies(df['brand'].replace(repl, 'uncommon'), dtype=np.int32).sample(5)"
   ]
  }
 ],
 "metadata": {
  "kernelspec": {
   "display_name": "Python 3 (ipykernel)",
   "language": "python",
   "name": "python3"
  },
  "language_info": {
   "codemirror_mode": {
    "name": "ipython",
    "version": 3
   },
   "file_extension": ".py",
   "mimetype": "text/x-python",
   "name": "python",
   "nbconvert_exporter": "python",
   "pygments_lexer": "ipython3",
   "version": "3.12.6"
  }
 },
 "nbformat": 4,
 "nbformat_minor": 5
}
