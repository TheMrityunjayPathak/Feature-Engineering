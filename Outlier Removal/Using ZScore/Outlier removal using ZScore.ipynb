{
 "cells": [
  {
   "cell_type": "markdown",
   "id": "3a804814-a03a-42bf-af68-7d35b13b1326",
   "metadata": {},
   "source": [
    "<div id=\"header\">\n",
    "    <p style=\"color:#6a66bd; text-align:center; font-weight:bold; font-family:verdana; font-size:20px;\">\n",
    "        Outlier removal using ZScore\n",
    "    </p>\n",
    "</div>\n",
    "\n",
    "---\n",
    "\n",
    "<div style=\"background-color:gainsboro; padding:8px; border:2px dotted black; border-radius:8px; font-family:verdana; line-height: 1.7em\">\n",
    "• Outliers are data points that deviate significantly from the overall pattern of a dataset. \n",
    "<br>\n",
    "• Their presence can have a profound effect on statistical models and analyses, influencing results and interpretations in various ways. \n",
    "<br>\n",
    "<br>\n",
    "<strong>Types of Outliers</strong>\n",
    "<br>\n",
    "• Univariate Outliers: Points that stand out in a single variable's distribution (e.g., a very high income in a dataset of household incomes).\n",
    "<br>\n",
    "• Multivariate Outliers: Points that are unusual when considering multiple variables together (e.g., a person with both a high income and low education level).\n",
    "<br>\n",
    "<br>\n",
    "Capping and trimming are two techniques used to manage outliers in datasets. They help mitigate the influence of extreme values while preserving the overall data structure.\n",
    "<br>\n",
    "<strong>1. Capping</strong>\n",
    "<br>\n",
    "Capping involves setting a threshold beyond which data points are adjusted to a specific maximum or minimum value.\n",
    "<br>\n",
    "This technique is often referred to as \"winsorizing.\"\n",
    "<br>\n",
    "<strong>How it Works</strong>\n",
    "<br>\n",
    "• Upper Capping: Any data point above a certain threshold is replaced with that threshold value.\n",
    "<br>\n",
    "• Lower Capping: Any data point below a certain threshold is replaced with that threshold value.\n",
    "<br>\n",
    "<strong>2. Trimming</strong>\n",
    "<br>\n",
    "• Trimming involves removing a certain percentage of the data from the extremes of the distribution. \n",
    "<br>\n",
    "• This means discarding data points that fall below or above specified value.\n",
    "<br>\n",
    "<strong>How it Works</strong>\n",
    "<br>\n",
    "• Upper Trimming: Remove the top X% of data points (e.g., the top 5%).\n",
    "<br>\n",
    "• Lower Trimming: Remove the bottom X% of data points (e.g., the bottom 5%).\n",
    "<br>\n",
    "<br>\n",
    "<strong>When to use Capping vs Trimming</strong>\n",
    "<br>\n",
    "• Capping is often preferred when you want to retain all data points but minimize the influence of extreme values.\n",
    "<br>\n",
    "• Trimming is useful when you are confident that the extremes do not represent the underlying process or phenomenon being studied and when you are comfortable with losing some data.\n",
    "</div>"
   ]
  },
  {
   "cell_type": "code",
   "execution_count": 158,
   "id": "63e04db6-1a61-48e5-bfe4-56e3e7875551",
   "metadata": {},
   "outputs": [],
   "source": [
    "# Importing Libraries\n",
    "import numpy as np\n",
    "import pandas as pd\n",
    "import seaborn as sns\n",
    "import matplotlib.pyplot as plt"
   ]
  },
  {
   "cell_type": "code",
   "execution_count": 159,
   "id": "08f00080-7b19-4a6e-983c-d14b740060f5",
   "metadata": {},
   "outputs": [
    {
     "data": {
      "text/html": [
       "<div>\n",
       "<style scoped>\n",
       "    .dataframe tbody tr th:only-of-type {\n",
       "        vertical-align: middle;\n",
       "    }\n",
       "\n",
       "    .dataframe tbody tr th {\n",
       "        vertical-align: top;\n",
       "    }\n",
       "\n",
       "    .dataframe thead th {\n",
       "        text-align: right;\n",
       "    }\n",
       "</style>\n",
       "<table border=\"1\" class=\"dataframe\">\n",
       "  <thead>\n",
       "    <tr style=\"text-align: right;\">\n",
       "      <th></th>\n",
       "      <th>cgpa</th>\n",
       "      <th>placement_exam_marks</th>\n",
       "      <th>placed</th>\n",
       "    </tr>\n",
       "  </thead>\n",
       "  <tbody>\n",
       "    <tr>\n",
       "      <th>812</th>\n",
       "      <td>5.99</td>\n",
       "      <td>23.0</td>\n",
       "      <td>0</td>\n",
       "    </tr>\n",
       "    <tr>\n",
       "      <th>349</th>\n",
       "      <td>8.12</td>\n",
       "      <td>16.0</td>\n",
       "      <td>0</td>\n",
       "    </tr>\n",
       "    <tr>\n",
       "      <th>822</th>\n",
       "      <td>7.33</td>\n",
       "      <td>32.0</td>\n",
       "      <td>1</td>\n",
       "    </tr>\n",
       "    <tr>\n",
       "      <th>541</th>\n",
       "      <td>6.11</td>\n",
       "      <td>18.0</td>\n",
       "      <td>1</td>\n",
       "    </tr>\n",
       "    <tr>\n",
       "      <th>772</th>\n",
       "      <td>6.63</td>\n",
       "      <td>26.0</td>\n",
       "      <td>0</td>\n",
       "    </tr>\n",
       "  </tbody>\n",
       "</table>\n",
       "</div>"
      ],
      "text/plain": [
       "     cgpa  placement_exam_marks  placed\n",
       "812  5.99                  23.0       0\n",
       "349  8.12                  16.0       0\n",
       "822  7.33                  32.0       1\n",
       "541  6.11                  18.0       1\n",
       "772  6.63                  26.0       0"
      ]
     },
     "execution_count": 159,
     "metadata": {},
     "output_type": "execute_result"
    }
   ],
   "source": [
    "# Reading CSV File\n",
    "df = pd.read_csv(\"placement.csv\")\n",
    "df.sample(5)"
   ]
  },
  {
   "cell_type": "code",
   "execution_count": 160,
   "id": "dc1c05d3-c540-4c8d-8109-14e50ceb403e",
   "metadata": {},
   "outputs": [
    {
     "data": {
      "text/plain": [
       "(1000, 3)"
      ]
     },
     "execution_count": 160,
     "metadata": {},
     "output_type": "execute_result"
    }
   ],
   "source": [
    "# Shape of the DataFrame\n",
    "df.shape"
   ]
  },
  {
   "cell_type": "markdown",
   "id": "eb70a728-bafd-4e62-bd07-c0160bc89669",
   "metadata": {},
   "source": [
    "<div style=\"background-color:gainsboro; padding:8px; border:2px dotted black; border-radius:8px; font-family:verdana; line-height: 1.7em\">\n",
    "• Outlier removal using the Z-score method is a common statistical technique that identifies outliers based on their distance from the mean in terms of standard deviations. \n",
    "<br>\n",
    "<br>\n",
    "Here’s a detailed explanation of how it works :\n",
    "<br>\n",
    "<br>\n",
    "<strong>What is ZScore?</strong>\n",
    "<br>\n",
    "• The Z-score indicates how many standard deviations a data point is from the mean of the dataset. It is calculated using the formula :\n",
    "    \n",
    "$$Z = \\frac{(X - \\mu)}{\\sigma}$$\n",
    "where:\n",
    "<br>\n",
    "• $Z$ = Z-score\n",
    "<br>\n",
    "• $X$ = Individual data point\n",
    "<br>\n",
    "• $\\mu$ = Mean of the dataset\n",
    "<br>\n",
    "• $\\sigma$ = Standard deviation of the dataset\n",
    "<br>\n",
    "<strong>Steps for Outlier Removal using ZScore</strong>\n",
    "<br>\n",
    "• First, compute the mean $\\mu$ and standard deviation $\\sigma$ of the dataset.\n",
    "<br>\n",
    "• For each data point in the dataset, compute the Z-score using the formula above.\n",
    "<br>\n",
    "• Common thresholds for identifying outliers are typically set at $Z > 3$ or $Z < -3$.\n",
    "<br>\n",
    "• This means that any data point with a Z-score greater than 3 or less than -3 is considered an outlier.\n",
    "<br>\n",
    "• Flag the data points that exceed the chosen Z-score threshold.\n",
    "<br>\n",
    "• Depending on your analysis, you can either remove these outliers from the dataset or treat them differently (e.g., capping).\n",
    "<br>\n",
    "<br>\n",
    "<strong>Considerations</strong>\n",
    "<br>\n",
    "• The Z-score method assumes that the data is approximately normally distributed. If the distribution is skewed, the Z-score may not be an effective method.\n",
    "<br>\n",
    "• In datasets with many outliers, consider using robust methods like the modified Z-score, which uses the median and median absolute deviation (MAD) instead of the mean and standard deviation.\n",
    "<br>\n",
    "• The Z-score method may be less reliable with smaller sample sizes, as outliers can disproportionately influence the mean and standard deviation.\n",
    "</div>"
   ]
  },
  {
   "cell_type": "code",
   "execution_count": 161,
   "id": "699d22a7-d94a-4cec-be88-f8ef5ece05d0",
   "metadata": {},
   "outputs": [
    {
     "data": {
      "image/png": "[encoded data removed]",
      "text/plain": [
       "<Figure size 1200x400 with 2 Axes>"
      ]
     },
     "metadata": {},
     "output_type": "display_data"
    }
   ],
   "source": [
    "# Distribution of CGPA and Marks Column\n",
    "fig, ax = plt.subplots(ncols=2, figsize=(12,4))\n",
    "sns.histplot(df[\"cgpa\"], kde=True, color=\"coral\", ax=ax[0])\n",
    "ax[0].set_title(\"Distribution of CGPA\")\n",
    "sns.histplot(df[\"placement_exam_marks\"], kde=True, color=\"seagreen\", ax=ax[1])\n",
    "ax[1].set_title(\"Distribution of Marks\")\n",
    "plt.show()"
   ]
  },
  {
   "cell_type": "markdown",
   "id": "58a1e1a7-686f-4f0e-8779-d8c7718c5274",
   "metadata": {},
   "source": [
    "<div style=\"background-color:gainsboro; padding:8px; border:2px dotted black; border-radius:8px; font-family:verdana; line-height: 1.7em\">\n",
    "<strong>Finding outlier's using Range of values</strong>\n",
    "<br>\n",
    "• This expression specifies a range around the mean, where the mean is the average of the dataset and standard deviation measures the spread of the data.\n",
    "<br>\n",
    "• In a normally distributed dataset, approximately 99.7% of the data points fall within this range. \n",
    "<br>\n",
    "• This is known as the empirical rule (or 68-95-99.7 rule)\n",
    "<br>\n",
    "1. About 68% of data points fall within 1 standard deviation (μ±1σ).\n",
    "<br>\n",
    "2. About 95% fall within 2 standard deviations (μ±2σ).\n",
    "<br>\n",
    "3. About 99.7% fall within 3 standard deviations (μ±3σ).\n",
    "<br>\n",
    "• This range helps identify outliers. Any data point outside this range can be flagged as an outlier.\n",
    "</div>"
   ]
  },
  {
   "cell_type": "code",
   "execution_count": 162,
   "id": "26df324f-e7f7-4a55-bb12-13fd9b9d0d05",
   "metadata": {},
   "outputs": [
    {
     "name": "stdout",
     "output_type": "stream",
     "text": [
      "Mean of CGPA Column : 6.96124\n",
      "Standard Deviation of CGPA Column : 0.6158978751323896\n"
     ]
    }
   ],
   "source": [
    "# Mean of CGPA Column\n",
    "mean_cgpa = df[\"cgpa\"].mean()\n",
    "print(\"Mean of CGPA Column :\", mean_cgpa)\n",
    "\n",
    "# Standard Deviation of CGPA Column\n",
    "std_cgpa = df[\"cgpa\"].std()\n",
    "print(\"Standard Deviation of CGPA Column :\", std_cgpa)"
   ]
  },
  {
   "cell_type": "code",
   "execution_count": 163,
   "id": "b91d5ab7-343f-46ec-8173-2dbab36dc4ce",
   "metadata": {},
   "outputs": [
    {
     "name": "stdout",
     "output_type": "stream",
     "text": [
      "Upper Limit of CGPA Column : 8.808933625397168\n",
      "Lower Limit of CGPA Column : 5.113546374602832\n"
     ]
    }
   ],
   "source": [
    "# Upper limit for Outlier\n",
    "upper_limit = mean_cgpa + 3*std_cgpa\n",
    "print(\"Upper Limit of CGPA Column :\", upper_limit)\n",
    "\n",
    "# Lower limit for Outlier\n",
    "lower_limit = mean_cgpa - 3*std_cgpa\n",
    "print(\"Lower Limit of CGPA Column :\", lower_limit)"
   ]
  },
  {
   "cell_type": "markdown",
   "id": "6dfa15b0-13ad-4f29-b295-1e0d254b086d",
   "metadata": {},
   "source": [
    "<div id=\"header\">\n",
    "    <p style=\"color:#6a66bd; text-align:center; font-weight:bold; font-family:verdana; font-size:20px;\">\n",
    "        Trimming\n",
    "    </p>\n",
    "</div>\n",
    "\n",
    "---"
   ]
  },
  {
   "cell_type": "code",
   "execution_count": 164,
   "id": "0d00ba34-3143-4f3b-a405-55442ac17ff5",
   "metadata": {},
   "outputs": [
    {
     "data": {
      "text/html": [
       "<div>\n",
       "<style scoped>\n",
       "    .dataframe tbody tr th:only-of-type {\n",
       "        vertical-align: middle;\n",
       "    }\n",
       "\n",
       "    .dataframe tbody tr th {\n",
       "        vertical-align: top;\n",
       "    }\n",
       "\n",
       "    .dataframe thead th {\n",
       "        text-align: right;\n",
       "    }\n",
       "</style>\n",
       "<table border=\"1\" class=\"dataframe\">\n",
       "  <thead>\n",
       "    <tr style=\"text-align: right;\">\n",
       "      <th></th>\n",
       "      <th>cgpa</th>\n",
       "      <th>placement_exam_marks</th>\n",
       "      <th>placed</th>\n",
       "    </tr>\n",
       "  </thead>\n",
       "  <tbody>\n",
       "    <tr>\n",
       "      <th>485</th>\n",
       "      <td>4.92</td>\n",
       "      <td>44.0</td>\n",
       "      <td>1</td>\n",
       "    </tr>\n",
       "    <tr>\n",
       "      <th>995</th>\n",
       "      <td>8.87</td>\n",
       "      <td>44.0</td>\n",
       "      <td>1</td>\n",
       "    </tr>\n",
       "    <tr>\n",
       "      <th>996</th>\n",
       "      <td>9.12</td>\n",
       "      <td>65.0</td>\n",
       "      <td>1</td>\n",
       "    </tr>\n",
       "    <tr>\n",
       "      <th>997</th>\n",
       "      <td>4.89</td>\n",
       "      <td>34.0</td>\n",
       "      <td>0</td>\n",
       "    </tr>\n",
       "    <tr>\n",
       "      <th>999</th>\n",
       "      <td>4.90</td>\n",
       "      <td>10.0</td>\n",
       "      <td>1</td>\n",
       "    </tr>\n",
       "  </tbody>\n",
       "</table>\n",
       "</div>"
      ],
      "text/plain": [
       "     cgpa  placement_exam_marks  placed\n",
       "485  4.92                  44.0       1\n",
       "995  8.87                  44.0       1\n",
       "996  9.12                  65.0       1\n",
       "997  4.89                  34.0       0\n",
       "999  4.90                  10.0       1"
      ]
     },
     "execution_count": 164,
     "metadata": {},
     "output_type": "execute_result"
    }
   ],
   "source": [
    "# Data that are potentially Outlier\n",
    "df[(df[\"cgpa\"] > upper_limit) | (df[\"cgpa\"] < lower_limit)]"
   ]
  },
  {
   "cell_type": "code",
   "execution_count": 165,
   "id": "30bfd1b0-d35b-4bf2-9cdb-488c8a8fcd88",
   "metadata": {},
   "outputs": [
    {
     "data": {
      "text/html": [
       "<div>\n",
       "<style scoped>\n",
       "    .dataframe tbody tr th:only-of-type {\n",
       "        vertical-align: middle;\n",
       "    }\n",
       "\n",
       "    .dataframe tbody tr th {\n",
       "        vertical-align: top;\n",
       "    }\n",
       "\n",
       "    .dataframe thead th {\n",
       "        text-align: right;\n",
       "    }\n",
       "</style>\n",
       "<table border=\"1\" class=\"dataframe\">\n",
       "  <thead>\n",
       "    <tr style=\"text-align: right;\">\n",
       "      <th></th>\n",
       "      <th>cgpa</th>\n",
       "      <th>placement_exam_marks</th>\n",
       "      <th>placed</th>\n",
       "    </tr>\n",
       "  </thead>\n",
       "  <tbody>\n",
       "    <tr>\n",
       "      <th>279</th>\n",
       "      <td>8.49</td>\n",
       "      <td>40.0</td>\n",
       "      <td>1</td>\n",
       "    </tr>\n",
       "    <tr>\n",
       "      <th>404</th>\n",
       "      <td>8.02</td>\n",
       "      <td>35.0</td>\n",
       "      <td>1</td>\n",
       "    </tr>\n",
       "    <tr>\n",
       "      <th>614</th>\n",
       "      <td>8.05</td>\n",
       "      <td>41.0</td>\n",
       "      <td>0</td>\n",
       "    </tr>\n",
       "    <tr>\n",
       "      <th>361</th>\n",
       "      <td>6.37</td>\n",
       "      <td>37.0</td>\n",
       "      <td>1</td>\n",
       "    </tr>\n",
       "    <tr>\n",
       "      <th>454</th>\n",
       "      <td>7.13</td>\n",
       "      <td>53.0</td>\n",
       "      <td>0</td>\n",
       "    </tr>\n",
       "  </tbody>\n",
       "</table>\n",
       "</div>"
      ],
      "text/plain": [
       "     cgpa  placement_exam_marks  placed\n",
       "279  8.49                  40.0       1\n",
       "404  8.02                  35.0       1\n",
       "614  8.05                  41.0       0\n",
       "361  6.37                  37.0       1\n",
       "454  7.13                  53.0       0"
      ]
     },
     "execution_count": 165,
     "metadata": {},
     "output_type": "execute_result"
    }
   ],
   "source": [
    "# Trimming DataFrame\n",
    "trim_df = df[(df[\"cgpa\"] < upper_limit) & (df[\"cgpa\"] > lower_limit)]\n",
    "trim_df.sample(5)"
   ]
  },
  {
   "cell_type": "code",
   "execution_count": 166,
   "id": "3a1e6125-e378-47f9-bd76-ca29dfb8a843",
   "metadata": {},
   "outputs": [
    {
     "data": {
      "text/plain": [
       "(995, 3)"
      ]
     },
     "execution_count": 166,
     "metadata": {},
     "output_type": "execute_result"
    }
   ],
   "source": [
    "# Shape of the DataFrame after Trimming\n",
    "trim_df.shape"
   ]
  },
  {
   "cell_type": "code",
   "execution_count": 167,
   "id": "13503b36-b3ac-487c-a29f-4c91fac050f3",
   "metadata": {},
   "outputs": [],
   "source": [
    "# ZScore for CGPA Column\n",
    "df[\"cgpa_zscore\"] = (df[\"cgpa\"] - mean_cgpa)/std_cgpa"
   ]
  },
  {
   "cell_type": "code",
   "execution_count": 168,
   "id": "959755be-8c9e-4f19-a274-b5148e4ac5ac",
   "metadata": {},
   "outputs": [
    {
     "data": {
      "text/html": [
       "<div>\n",
       "<style scoped>\n",
       "    .dataframe tbody tr th:only-of-type {\n",
       "        vertical-align: middle;\n",
       "    }\n",
       "\n",
       "    .dataframe tbody tr th {\n",
       "        vertical-align: top;\n",
       "    }\n",
       "\n",
       "    .dataframe thead th {\n",
       "        text-align: right;\n",
       "    }\n",
       "</style>\n",
       "<table border=\"1\" class=\"dataframe\">\n",
       "  <thead>\n",
       "    <tr style=\"text-align: right;\">\n",
       "      <th></th>\n",
       "      <th>cgpa</th>\n",
       "      <th>placement_exam_marks</th>\n",
       "      <th>placed</th>\n",
       "      <th>cgpa_zscore</th>\n",
       "    </tr>\n",
       "  </thead>\n",
       "  <tbody>\n",
       "    <tr>\n",
       "      <th>833</th>\n",
       "      <td>7.29</td>\n",
       "      <td>23.0</td>\n",
       "      <td>1</td>\n",
       "      <td>0.533790</td>\n",
       "    </tr>\n",
       "    <tr>\n",
       "      <th>317</th>\n",
       "      <td>7.47</td>\n",
       "      <td>19.0</td>\n",
       "      <td>0</td>\n",
       "      <td>0.826046</td>\n",
       "    </tr>\n",
       "    <tr>\n",
       "      <th>723</th>\n",
       "      <td>7.35</td>\n",
       "      <td>10.0</td>\n",
       "      <td>1</td>\n",
       "      <td>0.631209</td>\n",
       "    </tr>\n",
       "    <tr>\n",
       "      <th>899</th>\n",
       "      <td>7.62</td>\n",
       "      <td>8.0</td>\n",
       "      <td>1</td>\n",
       "      <td>1.069593</td>\n",
       "    </tr>\n",
       "    <tr>\n",
       "      <th>682</th>\n",
       "      <td>6.34</td>\n",
       "      <td>17.0</td>\n",
       "      <td>1</td>\n",
       "      <td>-1.008674</td>\n",
       "    </tr>\n",
       "  </tbody>\n",
       "</table>\n",
       "</div>"
      ],
      "text/plain": [
       "     cgpa  placement_exam_marks  placed  cgpa_zscore\n",
       "833  7.29                  23.0       1     0.533790\n",
       "317  7.47                  19.0       0     0.826046\n",
       "723  7.35                  10.0       1     0.631209\n",
       "899  7.62                   8.0       1     1.069593\n",
       "682  6.34                  17.0       1    -1.008674"
      ]
     },
     "execution_count": 168,
     "metadata": {},
     "output_type": "execute_result"
    }
   ],
   "source": [
    "# Sample of the DataFrame\n",
    "df.sample(5)"
   ]
  },
  {
   "cell_type": "code",
   "execution_count": 169,
   "id": "82ed2740-6301-46cf-a679-9874a5a9d109",
   "metadata": {},
   "outputs": [
    {
     "data": {
      "text/html": [
       "<div>\n",
       "<style scoped>\n",
       "    .dataframe tbody tr th:only-of-type {\n",
       "        vertical-align: middle;\n",
       "    }\n",
       "\n",
       "    .dataframe tbody tr th {\n",
       "        vertical-align: top;\n",
       "    }\n",
       "\n",
       "    .dataframe thead th {\n",
       "        text-align: right;\n",
       "    }\n",
       "</style>\n",
       "<table border=\"1\" class=\"dataframe\">\n",
       "  <thead>\n",
       "    <tr style=\"text-align: right;\">\n",
       "      <th></th>\n",
       "      <th>cgpa</th>\n",
       "      <th>placement_exam_marks</th>\n",
       "      <th>placed</th>\n",
       "      <th>cgpa_zscore</th>\n",
       "    </tr>\n",
       "  </thead>\n",
       "  <tbody>\n",
       "    <tr>\n",
       "      <th>485</th>\n",
       "      <td>4.92</td>\n",
       "      <td>44.0</td>\n",
       "      <td>1</td>\n",
       "      <td>-3.314251</td>\n",
       "    </tr>\n",
       "    <tr>\n",
       "      <th>995</th>\n",
       "      <td>8.87</td>\n",
       "      <td>44.0</td>\n",
       "      <td>1</td>\n",
       "      <td>3.099150</td>\n",
       "    </tr>\n",
       "    <tr>\n",
       "      <th>996</th>\n",
       "      <td>9.12</td>\n",
       "      <td>65.0</td>\n",
       "      <td>1</td>\n",
       "      <td>3.505062</td>\n",
       "    </tr>\n",
       "    <tr>\n",
       "      <th>997</th>\n",
       "      <td>4.89</td>\n",
       "      <td>34.0</td>\n",
       "      <td>0</td>\n",
       "      <td>-3.362960</td>\n",
       "    </tr>\n",
       "    <tr>\n",
       "      <th>999</th>\n",
       "      <td>4.90</td>\n",
       "      <td>10.0</td>\n",
       "      <td>1</td>\n",
       "      <td>-3.346724</td>\n",
       "    </tr>\n",
       "  </tbody>\n",
       "</table>\n",
       "</div>"
      ],
      "text/plain": [
       "     cgpa  placement_exam_marks  placed  cgpa_zscore\n",
       "485  4.92                  44.0       1    -3.314251\n",
       "995  8.87                  44.0       1     3.099150\n",
       "996  9.12                  65.0       1     3.505062\n",
       "997  4.89                  34.0       0    -3.362960\n",
       "999  4.90                  10.0       1    -3.346724"
      ]
     },
     "execution_count": 169,
     "metadata": {},
     "output_type": "execute_result"
    }
   ],
   "source": [
    "# Data that are potentially Outlier\n",
    "df[(df[\"cgpa_zscore\"] > 3) | (df[\"cgpa_zscore\"] < -3)]"
   ]
  },
  {
   "cell_type": "code",
   "execution_count": 170,
   "id": "42752cf8-a989-4f41-be5d-0b59fdaeae2c",
   "metadata": {},
   "outputs": [
    {
     "data": {
      "text/html": [
       "<div>\n",
       "<style scoped>\n",
       "    .dataframe tbody tr th:only-of-type {\n",
       "        vertical-align: middle;\n",
       "    }\n",
       "\n",
       "    .dataframe tbody tr th {\n",
       "        vertical-align: top;\n",
       "    }\n",
       "\n",
       "    .dataframe thead th {\n",
       "        text-align: right;\n",
       "    }\n",
       "</style>\n",
       "<table border=\"1\" class=\"dataframe\">\n",
       "  <thead>\n",
       "    <tr style=\"text-align: right;\">\n",
       "      <th></th>\n",
       "      <th>cgpa</th>\n",
       "      <th>placement_exam_marks</th>\n",
       "      <th>placed</th>\n",
       "      <th>cgpa_zscore</th>\n",
       "    </tr>\n",
       "  </thead>\n",
       "  <tbody>\n",
       "    <tr>\n",
       "      <th>683</th>\n",
       "      <td>6.50</td>\n",
       "      <td>69.0</td>\n",
       "      <td>0</td>\n",
       "      <td>-0.748890</td>\n",
       "    </tr>\n",
       "    <tr>\n",
       "      <th>844</th>\n",
       "      <td>7.62</td>\n",
       "      <td>18.0</td>\n",
       "      <td>1</td>\n",
       "      <td>1.069593</td>\n",
       "    </tr>\n",
       "    <tr>\n",
       "      <th>427</th>\n",
       "      <td>6.17</td>\n",
       "      <td>39.0</td>\n",
       "      <td>1</td>\n",
       "      <td>-1.284694</td>\n",
       "    </tr>\n",
       "    <tr>\n",
       "      <th>146</th>\n",
       "      <td>6.75</td>\n",
       "      <td>22.0</td>\n",
       "      <td>1</td>\n",
       "      <td>-0.342979</td>\n",
       "    </tr>\n",
       "    <tr>\n",
       "      <th>94</th>\n",
       "      <td>7.15</td>\n",
       "      <td>21.0</td>\n",
       "      <td>1</td>\n",
       "      <td>0.306479</td>\n",
       "    </tr>\n",
       "  </tbody>\n",
       "</table>\n",
       "</div>"
      ],
      "text/plain": [
       "     cgpa  placement_exam_marks  placed  cgpa_zscore\n",
       "683  6.50                  69.0       0    -0.748890\n",
       "844  7.62                  18.0       1     1.069593\n",
       "427  6.17                  39.0       1    -1.284694\n",
       "146  6.75                  22.0       1    -0.342979\n",
       "94   7.15                  21.0       1     0.306479"
      ]
     },
     "execution_count": 170,
     "metadata": {},
     "output_type": "execute_result"
    }
   ],
   "source": [
    "# Trimming DataFrame\n",
    "zscore_df = df[(df[\"cgpa_zscore\"] < 3) & (df[\"cgpa_zscore\"] > -3)]\n",
    "zscore_df.sample(5)"
   ]
  },
  {
   "cell_type": "code",
   "execution_count": 171,
   "id": "abe47708-4bd2-40b5-b905-f9607270eb2e",
   "metadata": {},
   "outputs": [
    {
     "data": {
      "text/plain": [
       "(995, 4)"
      ]
     },
     "execution_count": 171,
     "metadata": {},
     "output_type": "execute_result"
    }
   ],
   "source": [
    "# Shape of the DataFrame after Trimming \n",
    "zscore_df.shape"
   ]
  },
  {
   "cell_type": "markdown",
   "id": "b9dd4a01-1e56-4d62-832a-c243b3163812",
   "metadata": {},
   "source": [
    "<div id=\"header\">\n",
    "    <p style=\"color:#6a66bd; text-align:center; font-weight:bold; font-family:verdana; font-size:20px;\">\n",
    "        Capping\n",
    "    </p>\n",
    "</div>\n",
    "\n",
    "---"
   ]
  },
  {
   "cell_type": "code",
   "execution_count": 172,
   "id": "429f1860-8042-4072-bc46-d1d0c3d56960",
   "metadata": {},
   "outputs": [],
   "source": [
    "# Capping values that are Outlier\n",
    "cap_df = df.copy()\n",
    "cap_df[\"cgpa\"] = np.where(\n",
    "    df[\"cgpa\"]>upper_limit, upper_limit, \n",
    "    np.where(df[\"cgpa\"]<lower_limit, lower_limit, df[\"cgpa\"]\n",
    "    )\n",
    ")"
   ]
  },
  {
   "cell_type": "code",
   "execution_count": 173,
   "id": "1fe74a14-b4f7-4e2a-aa0c-67b40f729e31",
   "metadata": {},
   "outputs": [
    {
     "data": {
      "text/plain": [
       "(1000, 4)"
      ]
     },
     "execution_count": 173,
     "metadata": {},
     "output_type": "execute_result"
    }
   ],
   "source": [
    "# Shape of the DataFrame after Capping\n",
    "cap_df.shape"
   ]
  },
  {
   "cell_type": "code",
   "execution_count": 174,
   "id": "18949cc9-cb5f-4952-9dbc-cbd41791c10a",
   "metadata": {},
   "outputs": [
    {
     "data": {
      "text/html": [
       "<div>\n",
       "<style scoped>\n",
       "    .dataframe tbody tr th:only-of-type {\n",
       "        vertical-align: middle;\n",
       "    }\n",
       "\n",
       "    .dataframe tbody tr th {\n",
       "        vertical-align: top;\n",
       "    }\n",
       "\n",
       "    .dataframe thead th {\n",
       "        text-align: right;\n",
       "    }\n",
       "</style>\n",
       "<table border=\"1\" class=\"dataframe\">\n",
       "  <thead>\n",
       "    <tr style=\"text-align: right;\">\n",
       "      <th></th>\n",
       "      <th>cgpa</th>\n",
       "      <th>placement_exam_marks</th>\n",
       "      <th>placed</th>\n",
       "      <th>cgpa_zscore</th>\n",
       "    </tr>\n",
       "  </thead>\n",
       "  <tbody>\n",
       "    <tr>\n",
       "      <th>436</th>\n",
       "      <td>6.31</td>\n",
       "      <td>19.0</td>\n",
       "      <td>0</td>\n",
       "      <td>-1.057383</td>\n",
       "    </tr>\n",
       "    <tr>\n",
       "      <th>237</th>\n",
       "      <td>7.14</td>\n",
       "      <td>52.0</td>\n",
       "      <td>1</td>\n",
       "      <td>0.290243</td>\n",
       "    </tr>\n",
       "    <tr>\n",
       "      <th>890</th>\n",
       "      <td>7.73</td>\n",
       "      <td>30.0</td>\n",
       "      <td>0</td>\n",
       "      <td>1.248194</td>\n",
       "    </tr>\n",
       "    <tr>\n",
       "      <th>225</th>\n",
       "      <td>7.36</td>\n",
       "      <td>13.0</td>\n",
       "      <td>1</td>\n",
       "      <td>0.647445</td>\n",
       "    </tr>\n",
       "    <tr>\n",
       "      <th>668</th>\n",
       "      <td>7.24</td>\n",
       "      <td>47.0</td>\n",
       "      <td>0</td>\n",
       "      <td>0.452608</td>\n",
       "    </tr>\n",
       "  </tbody>\n",
       "</table>\n",
       "</div>"
      ],
      "text/plain": [
       "     cgpa  placement_exam_marks  placed  cgpa_zscore\n",
       "436  6.31                  19.0       0    -1.057383\n",
       "237  7.14                  52.0       1     0.290243\n",
       "890  7.73                  30.0       0     1.248194\n",
       "225  7.36                  13.0       1     0.647445\n",
       "668  7.24                  47.0       0     0.452608"
      ]
     },
     "execution_count": 174,
     "metadata": {},
     "output_type": "execute_result"
    }
   ],
   "source": [
    "# Sample of the DataFrame\n",
    "cap_df.sample(5)"
   ]
  }
 ],
 "metadata": {
  "kernelspec": {
   "display_name": "Python 3 (ipykernel)",
   "language": "python",
   "name": "python3"
  },
  "language_info": {
   "codemirror_mode": {
    "name": "ipython",
    "version": 3
   },
   "file_extension": ".py",
   "mimetype": "text/x-python",
   "name": "python",
   "nbconvert_exporter": "python",
   "pygments_lexer": "ipython3",
   "version": "3.12.6"
  }
 },
 "nbformat": 4,
 "nbformat_minor": 5
}
